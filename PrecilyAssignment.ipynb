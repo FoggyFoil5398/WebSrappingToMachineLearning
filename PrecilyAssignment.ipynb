{
 "cells": [
  {
   "cell_type": "markdown",
   "metadata": {},
   "source": [
    "# Web Scrapping using Selenium and BeautifulSoup"
   ]
  },
  {
   "cell_type": "code",
   "execution_count": null,
   "metadata": {
    "collapsed": true
   },
   "outputs": [],
   "source": [
    "import time\n",
    "import pandas as pd\n",
    "from selenium import webdriver\n",
    "from selenium.webdriver.common.keys import Keys\n",
    "from bs4 import BeautifulSoup as soup\n",
    "import requests\n",
    "\n",
    "def cat_dataframe(category,f):\n",
    "    category = category.replace(' ','+')\n",
    "    browser = webdriver.Chrome(executable_path='/Users/rishabh/Downloads/chromedriver')\n",
    "    url = 'https://www.youtube.com/results?search_query='+category\n",
    "    browser.get(url)\n",
    "    time.sleep(1)\n",
    "    body = browser.find_element_by_tag_name('body')\n",
    "    for _ in range(900):\n",
    "        body.send_keys(Keys.PAGE_DOWN)\n",
    "        time.sleep(0.2)\n",
    "    html = browser.page_source\n",
    "    soup1 = soup(html)\n",
    "    x = 0\n",
    "    for i in soup1.findAll('a',{'class':'yt-simple-endpoint style-scope ytd-video-renderer'}):\n",
    "        if(x==1700):\n",
    "            break\n",
    "        link = i['href']\n",
    "        link_url = 'https://www.youtube.com'+link\n",
    "        r = requests.get(link_url)\n",
    "        data_link = link.strip('/watch?v=')\n",
    "        data_title = i['title']\n",
    "        htmltext = r.text\n",
    "        soup2 = soup(htmltext)\n",
    "        if(len(soup2.findAll('p',{'id':'eow-description'}))==0):\n",
    "            continue\n",
    "        data_desc = soup2.findAll('p',{'id':'eow-description'})[0].text\n",
    "        x+=1\n",
    "        f.write(data_link+','+str(data_title.replace(',','|'))+','+str(data_desc.replace(',','|'))+','+category.replace('+',' ')+'\\n')\n",
    "        \n",
    "        \n",
    "\n",
    "def create_df():\n",
    "    filename = 'trial1.csv'\n",
    "    f = open(filename,'w')\n",
    "    headers = 'Video id,Title,Description,Category\\n'\n",
    "    f.write(headers)\n",
    "    categories = ['Science and Technology','Art and Music','Travel Blogs','Manufacturing','History','Food','World War 2','World War 1','Industrial Manufacturing','Lunch','Mobile Phones','DIY','Journey','Breakfast','Trips','Pop Music','dinner','brunch','laptop and computer', 'rock music', 'rap music', 'foreign trips']\n",
    "    for category in categories:\n",
    "        cat_dataframe(category,f)\n",
    "    f.close()\n",
    "\n",
    "        \n",
    "create_df()"
   ]
  },
  {
   "cell_type": "code",
   "execution_count": 2,
   "metadata": {
    "collapsed": true
   },
   "outputs": [],
   "source": [
    "import pandas as pd\n",
    "df = pd.read_csv('trial.csv')"
   ]
  },
  {
   "cell_type": "markdown",
   "metadata": {},
   "source": [
    "I have used categories like world war 1,2 etc. to find more videos of the category history since after a while scrolling down on youtube gives back no results."
   ]
  },
  {
   "cell_type": "code",
   "execution_count": 5,
   "metadata": {},
   "outputs": [
    {
     "data": {
      "text/plain": [
       "Travel Blogs              1500\n",
       "Manufacturing             1500\n",
       "Science and Technology    1500\n",
       "Art and Music             1500\n",
       "History                   1500\n",
       "Food                      1500\n",
       "Name: Category, dtype: int64"
      ]
     },
     "execution_count": 5,
     "metadata": {},
     "output_type": "execute_result"
    }
   ],
   "source": [
    "df['Category'].replace(['World War 1','World War 2','Industrial Manufacturing','Lunch','Mobile Phones','DIY','Journey','Breakfast','Trips','Pop Music','laptop and computer','brunch','foreign trips','dinner','rock music','rap music'],['History','History','Manufacturing','Food','Science and Technology','Manufacturing','Travel Blogs','Food','Travel Blogs','Art and Music','Science and Technology','Food','Travel Blogs','Food','Art and Music','Art and Music'],inplace=True)\n",
    "df['Category'].value_counts()\n",
    "df.drop_duplicates(inplace=True)\n",
    "# I'll be using 1500 videos from each category\n",
    "csv_food = df[df['Category']=='Food'][:1500]\n",
    "csv_science = df[df['Category']=='Science and Technology'][:1500]\n",
    "csv_travel = df[df['Category']=='Travel Blogs'][:1500]\n",
    "csv_art = df[df['Category']=='Art and Music'][:1500]\n",
    "csv_manufacture = df[df['Category']=='Manufacturing'][:1500]\n",
    "csv_history = df[df['Category']=='History'][:1500]\n",
    "df = csv_food.append([csv_science,csv_travel,csv_art,csv_manufacture,csv_history])\n",
    "df['Category'].value_counts()"
   ]
  },
  {
   "cell_type": "code",
   "execution_count": 6,
   "metadata": {
    "collapsed": true
   },
   "outputs": [],
   "source": [
    "#This is the data we will be using !\n",
    "df.to_csv('youtube_data.csv')"
   ]
  },
  {
   "cell_type": "code",
   "execution_count": 7,
   "metadata": {},
   "outputs": [
    {
     "data": {
      "text/html": [
       "<div>\n",
       "<style>\n",
       "    .dataframe thead tr:only-child th {\n",
       "        text-align: right;\n",
       "    }\n",
       "\n",
       "    .dataframe thead th {\n",
       "        text-align: left;\n",
       "    }\n",
       "\n",
       "    .dataframe tbody tr th {\n",
       "        vertical-align: top;\n",
       "    }\n",
       "</style>\n",
       "<table border=\"1\" class=\"dataframe\">\n",
       "  <thead>\n",
       "    <tr style=\"text-align: right;\">\n",
       "      <th></th>\n",
       "      <th>Unnamed: 0</th>\n",
       "      <th>Video id</th>\n",
       "      <th>Title</th>\n",
       "      <th>Description</th>\n",
       "      <th>Category</th>\n",
       "    </tr>\n",
       "  </thead>\n",
       "  <tbody>\n",
       "    <tr>\n",
       "      <th>0</th>\n",
       "      <td>0</td>\n",
       "      <td>V2jk8PclZwg</td>\n",
       "      <td>LEVEL 9999 Street Food in Dhaka| Bangladesh - ...</td>\n",
       "      <td>Street Food in Bangladesh is AMAZING! Check ou...</td>\n",
       "      <td>Food</td>\n",
       "    </tr>\n",
       "    <tr>\n",
       "      <th>1</th>\n",
       "      <td>1</td>\n",
       "      <td>4v9G2ArswUs</td>\n",
       "      <td>Food in Sri Lanka - 1.5 KG MONSTER Crab Curry ...</td>\n",
       "      <td>Best of Sri Lanka food tour with The Hungry To...</td>\n",
       "      <td>Food</td>\n",
       "    </tr>\n",
       "    <tr>\n",
       "      <th>2</th>\n",
       "      <td>2</td>\n",
       "      <td>2ICpGbY5u5o</td>\n",
       "      <td>Ultimate Indian Street Food Breakfast In Kolka...</td>\n",
       "      <td>Veggiepaaji will show you Ultimate Indian Stre...</td>\n",
       "      <td>Food</td>\n",
       "    </tr>\n",
       "    <tr>\n",
       "      <th>3</th>\n",
       "      <td>3</td>\n",
       "      <td>_LJ93UoFD6</td>\n",
       "      <td>UNDISCOVERED Madagascar Village Food!!!</td>\n",
       "      <td>🎥STREET FOOD HEAVEN IN MADAGASCAR! » https://y...</td>\n",
       "      <td>Food</td>\n",
       "    </tr>\n",
       "    <tr>\n",
       "      <th>4</th>\n",
       "      <td>4</td>\n",
       "      <td>Az3BCtL_KY</td>\n",
       "      <td>EAT IT OR WEAR IT CHALLENGE | Food Eating Chal...</td>\n",
       "      <td>Download Nostra Pro App (A safe| secret app to...</td>\n",
       "      <td>Food</td>\n",
       "    </tr>\n",
       "  </tbody>\n",
       "</table>\n",
       "</div>"
      ],
      "text/plain": [
       "   Unnamed: 0     Video id                                              Title  \\\n",
       "0           0  V2jk8PclZwg  LEVEL 9999 Street Food in Dhaka| Bangladesh - ...   \n",
       "1           1  4v9G2ArswUs  Food in Sri Lanka - 1.5 KG MONSTER Crab Curry ...   \n",
       "2           2  2ICpGbY5u5o  Ultimate Indian Street Food Breakfast In Kolka...   \n",
       "3           3   _LJ93UoFD6            UNDISCOVERED Madagascar Village Food!!!   \n",
       "4           4   Az3BCtL_KY  EAT IT OR WEAR IT CHALLENGE | Food Eating Chal...   \n",
       "\n",
       "                                         Description Category  \n",
       "0  Street Food in Bangladesh is AMAZING! Check ou...     Food  \n",
       "1  Best of Sri Lanka food tour with The Hungry To...     Food  \n",
       "2  Veggiepaaji will show you Ultimate Indian Stre...     Food  \n",
       "3  🎥STREET FOOD HEAVEN IN MADAGASCAR! » https://y...     Food  \n",
       "4  Download Nostra Pro App (A safe| secret app to...     Food  "
      ]
     },
     "execution_count": 7,
     "metadata": {},
     "output_type": "execute_result"
    }
   ],
   "source": [
    "df.head()"
   ]
  },
  {
   "cell_type": "markdown",
   "metadata": {},
   "source": [
    "## Cleaning Description"
   ]
  },
  {
   "cell_type": "code",
   "execution_count": 1,
   "metadata": {
    "collapsed": true
   },
   "outputs": [],
   "source": [
    "import pandas as pd"
   ]
  },
  {
   "cell_type": "code",
   "execution_count": 183,
   "metadata": {
    "collapsed": true
   },
   "outputs": [],
   "source": [
    "df = pd.read_csv('youtube_data.csv')"
   ]
  },
  {
   "cell_type": "code",
   "execution_count": 184,
   "metadata": {},
   "outputs": [
    {
     "data": {
      "text/html": [
       "<div>\n",
       "<style>\n",
       "    .dataframe thead tr:only-child th {\n",
       "        text-align: right;\n",
       "    }\n",
       "\n",
       "    .dataframe thead th {\n",
       "        text-align: left;\n",
       "    }\n",
       "\n",
       "    .dataframe tbody tr th {\n",
       "        vertical-align: top;\n",
       "    }\n",
       "</style>\n",
       "<table border=\"1\" class=\"dataframe\">\n",
       "  <thead>\n",
       "    <tr style=\"text-align: right;\">\n",
       "      <th></th>\n",
       "      <th>Video id</th>\n",
       "      <th>Title</th>\n",
       "      <th>Description</th>\n",
       "      <th>Category</th>\n",
       "    </tr>\n",
       "  </thead>\n",
       "  <tbody>\n",
       "    <tr>\n",
       "      <th>0</th>\n",
       "      <td>V2jk8PclZwg</td>\n",
       "      <td>LEVEL 9999 Street Food in Dhaka| Bangladesh - ...</td>\n",
       "      <td>Street Food in Bangladesh is AMAZING! Check ou...</td>\n",
       "      <td>Food</td>\n",
       "    </tr>\n",
       "    <tr>\n",
       "      <th>1</th>\n",
       "      <td>4v9G2ArswUs</td>\n",
       "      <td>Food in Sri Lanka - 1.5 KG MONSTER Crab Curry ...</td>\n",
       "      <td>Best of Sri Lanka food tour with The Hungry To...</td>\n",
       "      <td>Food</td>\n",
       "    </tr>\n",
       "    <tr>\n",
       "      <th>2</th>\n",
       "      <td>2ICpGbY5u5o</td>\n",
       "      <td>Ultimate Indian Street Food Breakfast In Kolka...</td>\n",
       "      <td>Veggiepaaji will show you Ultimate Indian Stre...</td>\n",
       "      <td>Food</td>\n",
       "    </tr>\n",
       "    <tr>\n",
       "      <th>3</th>\n",
       "      <td>_LJ93UoFD6</td>\n",
       "      <td>UNDISCOVERED Madagascar Village Food!!!</td>\n",
       "      <td>🎥STREET FOOD HEAVEN IN MADAGASCAR! » https://y...</td>\n",
       "      <td>Food</td>\n",
       "    </tr>\n",
       "    <tr>\n",
       "      <th>4</th>\n",
       "      <td>Az3BCtL_KY</td>\n",
       "      <td>EAT IT OR WEAR IT CHALLENGE | Food Eating Chal...</td>\n",
       "      <td>Download Nostra Pro App (A safe| secret app to...</td>\n",
       "      <td>Food</td>\n",
       "    </tr>\n",
       "  </tbody>\n",
       "</table>\n",
       "</div>"
      ],
      "text/plain": [
       "      Video id                                              Title  \\\n",
       "0  V2jk8PclZwg  LEVEL 9999 Street Food in Dhaka| Bangladesh - ...   \n",
       "1  4v9G2ArswUs  Food in Sri Lanka - 1.5 KG MONSTER Crab Curry ...   \n",
       "2  2ICpGbY5u5o  Ultimate Indian Street Food Breakfast In Kolka...   \n",
       "3   _LJ93UoFD6            UNDISCOVERED Madagascar Village Food!!!   \n",
       "4   Az3BCtL_KY  EAT IT OR WEAR IT CHALLENGE | Food Eating Chal...   \n",
       "\n",
       "                                         Description Category  \n",
       "0  Street Food in Bangladesh is AMAZING! Check ou...     Food  \n",
       "1  Best of Sri Lanka food tour with The Hungry To...     Food  \n",
       "2  Veggiepaaji will show you Ultimate Indian Stre...     Food  \n",
       "3  🎥STREET FOOD HEAVEN IN MADAGASCAR! » https://y...     Food  \n",
       "4  Download Nostra Pro App (A safe| secret app to...     Food  "
      ]
     },
     "execution_count": 184,
     "metadata": {},
     "output_type": "execute_result"
    }
   ],
   "source": [
    "df.drop(['Unnamed: 0','Unnamed: 0.1'],axis=1,inplace=True)\n",
    "df.head()"
   ]
  },
  {
   "cell_type": "code",
   "execution_count": 185,
   "metadata": {
    "collapsed": true
   },
   "outputs": [],
   "source": [
    "df.to_csv('youtube_data.csv')"
   ]
  },
  {
   "cell_type": "code",
   "execution_count": 5,
   "metadata": {
    "collapsed": true
   },
   "outputs": [],
   "source": [
    "from nltk.corpus import stopwords\n",
    "import string\n",
    "pun = list(string.punctuation)\n",
    "stop = stopwords.words('english')"
   ]
  },
  {
   "cell_type": "markdown",
   "metadata": {},
   "source": [
    "I am creating punc2 since I want punctuation marks like '@' etc. to be present in my words to help me get rid of links, email-addresses etc."
   ]
  },
  {
   "cell_type": "code",
   "execution_count": 8,
   "metadata": {
    "collapsed": true
   },
   "outputs": [],
   "source": [
    "pun2 = [i for i in pun if i not in ['@','/','-',':']]"
   ]
  },
  {
   "cell_type": "code",
   "execution_count": 16,
   "metadata": {
    "collapsed": true
   },
   "outputs": [],
   "source": [
    "df_new = df[df['Description'].notnull()]"
   ]
  },
  {
   "cell_type": "markdown",
   "metadata": {},
   "source": [
    "### Removing Punctuation"
   ]
  },
  {
   "cell_type": "markdown",
   "metadata": {},
   "source": [
    "Now one thing that often goes overlooked is the fact that when people type in some description, they may end up putting punctuation marks just after the word or before it or even in it. So this word obviously won't be treated as an english word since 'Hello' is a word but 'Hello!' is not really a word technically speaking. I have tried to fi the same below !"
   ]
  },
  {
   "cell_type": "code",
   "execution_count": 19,
   "metadata": {},
   "outputs": [
    {
     "name": "stderr",
     "output_type": "stream",
     "text": [
      "/Applications/anaconda3/lib/python3.6/site-packages/ipykernel_launcher.py:9: SettingWithCopyWarning: \n",
      "A value is trying to be set on a copy of a slice from a DataFrame.\n",
      "Try using .loc[row_indexer,col_indexer] = value instead\n",
      "\n",
      "See the caveats in the documentation: http://pandas.pydata.org/pandas-docs/stable/indexing.html#indexing-view-versus-copy\n",
      "  if __name__ == '__main__':\n"
     ]
    }
   ],
   "source": [
    "def removepunc(text):\n",
    "    t = text.split(' ')\n",
    "    li = []\n",
    "    for word in t:\n",
    "        for punc in pun2:\n",
    "            word = word.replace(punc,'')\n",
    "        li.append(word)\n",
    "    return \" \".join(li)\n",
    "df_new['Description'] = df_new['Description'].apply(removepunc)"
   ]
  },
  {
   "cell_type": "code",
   "execution_count": 20,
   "metadata": {},
   "outputs": [
    {
     "data": {
      "text/html": [
       "<div>\n",
       "<style>\n",
       "    .dataframe thead tr:only-child th {\n",
       "        text-align: right;\n",
       "    }\n",
       "\n",
       "    .dataframe thead th {\n",
       "        text-align: left;\n",
       "    }\n",
       "\n",
       "    .dataframe tbody tr th {\n",
       "        vertical-align: top;\n",
       "    }\n",
       "</style>\n",
       "<table border=\"1\" class=\"dataframe\">\n",
       "  <thead>\n",
       "    <tr style=\"text-align: right;\">\n",
       "      <th></th>\n",
       "      <th>Video id</th>\n",
       "      <th>Title</th>\n",
       "      <th>Description</th>\n",
       "      <th>Category</th>\n",
       "    </tr>\n",
       "  </thead>\n",
       "  <tbody>\n",
       "    <tr>\n",
       "      <th>0</th>\n",
       "      <td>V2jk8PclZwg</td>\n",
       "      <td>LEVEL 9999 Street Food in Dhaka| Bangladesh - ...</td>\n",
       "      <td>Street Food in Bangladesh is AMAZING Check out...</td>\n",
       "      <td>Food</td>\n",
       "    </tr>\n",
       "    <tr>\n",
       "      <th>1</th>\n",
       "      <td>4v9G2ArswUs</td>\n",
       "      <td>Food in Sri Lanka - 1.5 KG MONSTER Crab Curry ...</td>\n",
       "      <td>Best of Sri Lanka food tour with The Hungry To...</td>\n",
       "      <td>Food</td>\n",
       "    </tr>\n",
       "    <tr>\n",
       "      <th>2</th>\n",
       "      <td>2ICpGbY5u5o</td>\n",
       "      <td>Ultimate Indian Street Food Breakfast In Kolka...</td>\n",
       "      <td>Veggiepaaji will show you Ultimate Indian Stre...</td>\n",
       "      <td>Food</td>\n",
       "    </tr>\n",
       "    <tr>\n",
       "      <th>3</th>\n",
       "      <td>_LJ93UoFD6</td>\n",
       "      <td>UNDISCOVERED Madagascar Village Food!!!</td>\n",
       "      <td>🎥STREET FOOD HEAVEN IN MADAGASCAR » https://yo...</td>\n",
       "      <td>Food</td>\n",
       "    </tr>\n",
       "    <tr>\n",
       "      <th>4</th>\n",
       "      <td>Az3BCtL_KY</td>\n",
       "      <td>EAT IT OR WEAR IT CHALLENGE | Food Eating Chal...</td>\n",
       "      <td>Download Nostra Pro App A safe secret app to m...</td>\n",
       "      <td>Food</td>\n",
       "    </tr>\n",
       "  </tbody>\n",
       "</table>\n",
       "</div>"
      ],
      "text/plain": [
       "      Video id                                              Title  \\\n",
       "0  V2jk8PclZwg  LEVEL 9999 Street Food in Dhaka| Bangladesh - ...   \n",
       "1  4v9G2ArswUs  Food in Sri Lanka - 1.5 KG MONSTER Crab Curry ...   \n",
       "2  2ICpGbY5u5o  Ultimate Indian Street Food Breakfast In Kolka...   \n",
       "3   _LJ93UoFD6            UNDISCOVERED Madagascar Village Food!!!   \n",
       "4   Az3BCtL_KY  EAT IT OR WEAR IT CHALLENGE | Food Eating Chal...   \n",
       "\n",
       "                                         Description Category  \n",
       "0  Street Food in Bangladesh is AMAZING Check out...     Food  \n",
       "1  Best of Sri Lanka food tour with The Hungry To...     Food  \n",
       "2  Veggiepaaji will show you Ultimate Indian Stre...     Food  \n",
       "3  🎥STREET FOOD HEAVEN IN MADAGASCAR » https://yo...     Food  \n",
       "4  Download Nostra Pro App A safe secret app to m...     Food  "
      ]
     },
     "execution_count": 20,
     "metadata": {},
     "output_type": "execute_result"
    }
   ],
   "source": [
    "df_new.head()"
   ]
  },
  {
   "cell_type": "markdown",
   "metadata": {},
   "source": [
    "In the function below, I'll be left with only words that only have characters [a-z] in them. This will remove all the words with links, email adresses etc. in them."
   ]
  },
  {
   "cell_type": "code",
   "execution_count": 23,
   "metadata": {},
   "outputs": [
    {
     "name": "stderr",
     "output_type": "stream",
     "text": [
      "/Applications/anaconda3/lib/python3.6/site-packages/ipykernel_launcher.py:8: SettingWithCopyWarning: \n",
      "A value is trying to be set on a copy of a slice from a DataFrame.\n",
      "Try using .loc[row_indexer,col_indexer] = value instead\n",
      "\n",
      "See the caveats in the documentation: http://pandas.pydata.org/pandas-docs/stable/indexing.html#indexing-view-versus-copy\n",
      "  \n"
     ]
    }
   ],
   "source": [
    "def keepstring(text):\n",
    "    t = text.split(' ')\n",
    "    li = []\n",
    "    for word in t:\n",
    "        if (word.isalpha()):\n",
    "            li.append(word.lower())\n",
    "    return \" \".join(li)\n",
    "df_new['Description'] = df_new['Description'].apply(keepstring)"
   ]
  },
  {
   "cell_type": "code",
   "execution_count": null,
   "metadata": {
    "collapsed": true
   },
   "outputs": [],
   "source": [
    "def removestop(text):\n",
    "    t = text.split()\n",
    "    li = [word for word in t if word not in stop]\n",
    "    return \" \".join(li)\n",
    "df_new['Description'] = df_new['Description'].apply(removestop)"
   ]
  },
  {
   "cell_type": "code",
   "execution_count": 34,
   "metadata": {},
   "outputs": [
    {
     "data": {
      "text/html": [
       "<div>\n",
       "<style>\n",
       "    .dataframe thead tr:only-child th {\n",
       "        text-align: right;\n",
       "    }\n",
       "\n",
       "    .dataframe thead th {\n",
       "        text-align: left;\n",
       "    }\n",
       "\n",
       "    .dataframe tbody tr th {\n",
       "        vertical-align: top;\n",
       "    }\n",
       "</style>\n",
       "<table border=\"1\" class=\"dataframe\">\n",
       "  <thead>\n",
       "    <tr style=\"text-align: right;\">\n",
       "      <th></th>\n",
       "      <th>Video id</th>\n",
       "      <th>Title</th>\n",
       "      <th>Description</th>\n",
       "      <th>Category</th>\n",
       "    </tr>\n",
       "  </thead>\n",
       "  <tbody>\n",
       "    <tr>\n",
       "      <th>0</th>\n",
       "      <td>V2jk8PclZwg</td>\n",
       "      <td>LEVEL 9999 Street Food in Dhaka| Bangladesh - ...</td>\n",
       "      <td>street food in bangladesh is amazing check out...</td>\n",
       "      <td>Food</td>\n",
       "    </tr>\n",
       "    <tr>\n",
       "      <th>1</th>\n",
       "      <td>4v9G2ArswUs</td>\n",
       "      <td>Food in Sri Lanka - 1.5 KG MONSTER Crab Curry ...</td>\n",
       "      <td>best of sri lanka food tour with the hungry fo...</td>\n",
       "      <td>Food</td>\n",
       "    </tr>\n",
       "    <tr>\n",
       "      <th>2</th>\n",
       "      <td>2ICpGbY5u5o</td>\n",
       "      <td>Ultimate Indian Street Food Breakfast In Kolka...</td>\n",
       "      <td>veggiepaaji will show you ultimate indian stre...</td>\n",
       "      <td>Food</td>\n",
       "    </tr>\n",
       "    <tr>\n",
       "      <th>3</th>\n",
       "      <td>_LJ93UoFD6</td>\n",
       "      <td>UNDISCOVERED Madagascar Village Food!!!</td>\n",
       "      <td>food heaven in madagascar on your tour of mada...</td>\n",
       "      <td>Food</td>\n",
       "    </tr>\n",
       "    <tr>\n",
       "      <th>4</th>\n",
       "      <td>Az3BCtL_KY</td>\n",
       "      <td>EAT IT OR WEAR IT CHALLENGE | Food Eating Chal...</td>\n",
       "      <td>download nostra pro app a safe secret app to m...</td>\n",
       "      <td>Food</td>\n",
       "    </tr>\n",
       "  </tbody>\n",
       "</table>\n",
       "</div>"
      ],
      "text/plain": [
       "      Video id                                              Title  \\\n",
       "0  V2jk8PclZwg  LEVEL 9999 Street Food in Dhaka| Bangladesh - ...   \n",
       "1  4v9G2ArswUs  Food in Sri Lanka - 1.5 KG MONSTER Crab Curry ...   \n",
       "2  2ICpGbY5u5o  Ultimate Indian Street Food Breakfast In Kolka...   \n",
       "3   _LJ93UoFD6            UNDISCOVERED Madagascar Village Food!!!   \n",
       "4   Az3BCtL_KY  EAT IT OR WEAR IT CHALLENGE | Food Eating Chal...   \n",
       "\n",
       "                                         Description Category  \n",
       "0  street food in bangladesh is amazing check out...     Food  \n",
       "1  best of sri lanka food tour with the hungry fo...     Food  \n",
       "2  veggiepaaji will show you ultimate indian stre...     Food  \n",
       "3  food heaven in madagascar on your tour of mada...     Food  \n",
       "4  download nostra pro app a safe secret app to m...     Food  "
      ]
     },
     "execution_count": 34,
     "metadata": {},
     "output_type": "execute_result"
    }
   ],
   "source": [
    "df_new.head()"
   ]
  },
  {
   "cell_type": "code",
   "execution_count": 31,
   "metadata": {
    "collapsed": true
   },
   "outputs": [],
   "source": [
    "from sklearn.model_selection import train_test_split"
   ]
  },
  {
   "cell_type": "code",
   "execution_count": 62,
   "metadata": {
    "collapsed": true
   },
   "outputs": [],
   "source": [
    "x_train, x_test, y_train, y_test = train_test_split(df_new.iloc[:,0:3],df_new.iloc[:,3:4],random_state = 0)"
   ]
  },
  {
   "cell_type": "code",
   "execution_count": 67,
   "metadata": {},
   "outputs": [
    {
     "data": {
      "text/plain": [
       "(2161, 3)"
      ]
     },
     "execution_count": 67,
     "metadata": {},
     "output_type": "execute_result"
    }
   ],
   "source": [
    "x_test.shape"
   ]
  },
  {
   "cell_type": "markdown",
   "metadata": {},
   "source": [
    "Now every description has a variable length, hence I'll be using a vectorizer to transform the sentence into vector having words most used in the dataset which might indicate a good correspondance with the target variable"
   ]
  },
  {
   "cell_type": "code",
   "execution_count": 186,
   "metadata": {
    "collapsed": true
   },
   "outputs": [],
   "source": [
    "from sklearn.feature_extraction.text import TfidfVectorizer"
   ]
  },
  {
   "cell_type": "markdown",
   "metadata": {},
   "source": [
    "I am going to work with top 10000 words"
   ]
  },
  {
   "cell_type": "code",
   "execution_count": 77,
   "metadata": {
    "collapsed": true
   },
   "outputs": [],
   "source": [
    "v = TfidfVectorizer(max_features=10000)"
   ]
  },
  {
   "cell_type": "code",
   "execution_count": 78,
   "metadata": {
    "collapsed": true
   },
   "outputs": [],
   "source": [
    "train_features = v.fit_transform(x_train['Description'])"
   ]
  },
  {
   "cell_type": "code",
   "execution_count": 73,
   "metadata": {},
   "outputs": [
    {
     "data": {
      "text/plain": [
       "['aaa',\n",
       " 'aaj',\n",
       " 'aap',\n",
       " 'aapko',\n",
       " 'aaron',\n",
       " 'aarp',\n",
       " 'abc',\n",
       " 'ability',\n",
       " 'able',\n",
       " 'about',\n",
       " 'above',\n",
       " 'abroad',\n",
       " 'absolutely',\n",
       " 'abstract',\n",
       " 'ac',\n",
       " 'academic',\n",
       " 'academy',\n",
       " 'access',\n",
       " 'accessed',\n",
       " 'accessibility',\n",
       " 'accessories',\n",
       " 'accommodation',\n",
       " 'according',\n",
       " 'account',\n",
       " 'accuracy',\n",
       " 'accurate',\n",
       " 'ace',\n",
       " 'achieve',\n",
       " 'achieved',\n",
       " 'achievements',\n",
       " 'acid',\n",
       " 'acoustic',\n",
       " 'across',\n",
       " 'acrylic',\n",
       " 'act',\n",
       " 'acting',\n",
       " 'action',\n",
       " 'actions',\n",
       " 'activate',\n",
       " 'active',\n",
       " 'activities',\n",
       " 'activity',\n",
       " 'actor',\n",
       " 'acts',\n",
       " 'actual',\n",
       " 'actually',\n",
       " 'ad',\n",
       " 'adam',\n",
       " 'add',\n",
       " 'added',\n",
       " 'adding',\n",
       " 'addition',\n",
       " 'additional',\n",
       " 'additive',\n",
       " 'address',\n",
       " 'adhesive',\n",
       " 'adhesives',\n",
       " 'adjust',\n",
       " 'adobe',\n",
       " 'adolf',\n",
       " 'adorable',\n",
       " 'ads',\n",
       " 'adult',\n",
       " 'adults',\n",
       " 'advance',\n",
       " 'advanced',\n",
       " 'advances',\n",
       " 'advantage',\n",
       " 'adventure',\n",
       " 'adventures',\n",
       " 'advertising',\n",
       " 'advice',\n",
       " 'aerial',\n",
       " 'aerospace',\n",
       " 'affairs',\n",
       " 'affiliate',\n",
       " 'affiliates',\n",
       " 'afford',\n",
       " 'affordable',\n",
       " 'africa',\n",
       " 'african',\n",
       " 'after',\n",
       " 'afternoon',\n",
       " 'again',\n",
       " 'against',\n",
       " 'age',\n",
       " 'agency',\n",
       " 'ages',\n",
       " 'ago',\n",
       " 'agree',\n",
       " 'agreement',\n",
       " 'agricultural',\n",
       " 'agriculture',\n",
       " 'agro',\n",
       " 'ahead',\n",
       " 'ai',\n",
       " 'aid',\n",
       " 'aim',\n",
       " 'aims',\n",
       " 'aint',\n",
       " 'air',\n",
       " 'airbnb',\n",
       " 'aircraft',\n",
       " 'airplane',\n",
       " 'airport',\n",
       " 'aka',\n",
       " 'akm',\n",
       " 'al',\n",
       " 'alan',\n",
       " 'albert',\n",
       " 'album',\n",
       " 'albums',\n",
       " 'alex',\n",
       " 'alexander',\n",
       " 'ali',\n",
       " 'alien',\n",
       " 'alive',\n",
       " 'all',\n",
       " 'alliance',\n",
       " 'allied',\n",
       " 'allies',\n",
       " 'allow',\n",
       " 'allowance',\n",
       " 'allowed',\n",
       " 'allowing',\n",
       " 'allows',\n",
       " 'ally',\n",
       " 'almond',\n",
       " 'almost',\n",
       " 'alone',\n",
       " 'along',\n",
       " 'aloo',\n",
       " 'alpha',\n",
       " 'already',\n",
       " 'also',\n",
       " 'alternate',\n",
       " 'alternative',\n",
       " 'although',\n",
       " 'aluminum',\n",
       " 'always',\n",
       " 'am',\n",
       " 'amazing',\n",
       " 'amazon',\n",
       " 'amd',\n",
       " 'america',\n",
       " 'american',\n",
       " 'americans',\n",
       " 'americas',\n",
       " 'among',\n",
       " 'amount',\n",
       " 'amy',\n",
       " 'an',\n",
       " 'analyse',\n",
       " 'analysis',\n",
       " 'ancient',\n",
       " 'and',\n",
       " 'anderson',\n",
       " 'andre',\n",
       " 'andrew',\n",
       " 'android',\n",
       " 'andy',\n",
       " 'angel',\n",
       " 'angela',\n",
       " 'angeles',\n",
       " 'angels',\n",
       " 'angle',\n",
       " 'animal',\n",
       " 'animals',\n",
       " 'animated',\n",
       " 'animation',\n",
       " 'animations',\n",
       " 'anime',\n",
       " 'ann',\n",
       " 'anna',\n",
       " 'anniversary',\n",
       " 'announced',\n",
       " 'annu',\n",
       " 'annual',\n",
       " 'another',\n",
       " 'answer',\n",
       " 'answers',\n",
       " 'antarctica',\n",
       " 'anthony',\n",
       " 'anxiety',\n",
       " 'any',\n",
       " 'anyone',\n",
       " 'anything',\n",
       " 'anytime',\n",
       " 'anyway',\n",
       " 'anywhere',\n",
       " 'ap',\n",
       " 'apart',\n",
       " 'apartment',\n",
       " 'apko',\n",
       " 'app',\n",
       " 'appear',\n",
       " 'appearance',\n",
       " 'appeared',\n",
       " 'appears',\n",
       " 'appeltresearch',\n",
       " 'apple',\n",
       " 'application',\n",
       " 'applications',\n",
       " 'applied',\n",
       " 'apply',\n",
       " 'appreciate',\n",
       " 'approach',\n",
       " 'approved',\n",
       " 'approximately',\n",
       " 'apps',\n",
       " 'appsc',\n",
       " 'april',\n",
       " 'arab',\n",
       " 'archduke',\n",
       " 'architecture',\n",
       " 'archive',\n",
       " 'archives',\n",
       " 'are',\n",
       " 'area',\n",
       " 'areas',\n",
       " 'arena',\n",
       " 'arent',\n",
       " 'arm',\n",
       " 'armed',\n",
       " 'armies',\n",
       " 'armistice',\n",
       " 'arms',\n",
       " 'army',\n",
       " 'arnel',\n",
       " 'around',\n",
       " 'arrive',\n",
       " 'arrived',\n",
       " 'art',\n",
       " 'arthur',\n",
       " 'article',\n",
       " 'articles',\n",
       " 'artificial',\n",
       " 'artillery',\n",
       " 'artist',\n",
       " 'artistic',\n",
       " 'artists',\n",
       " 'arts',\n",
       " 'artwork',\n",
       " 'as',\n",
       " 'ascorbic',\n",
       " 'ashu',\n",
       " 'asia',\n",
       " 'asian',\n",
       " 'aside',\n",
       " 'ask',\n",
       " 'asked',\n",
       " 'asleep',\n",
       " 'asmr',\n",
       " 'aspects',\n",
       " 'assassination',\n",
       " 'assembly',\n",
       " 'assist',\n",
       " 'assistant',\n",
       " 'associate',\n",
       " 'associated',\n",
       " 'associates',\n",
       " 'association',\n",
       " 'astral',\n",
       " 'astrid',\n",
       " 'asus',\n",
       " 'at',\n",
       " 'ate',\n",
       " 'atlantic',\n",
       " 'atmosphere',\n",
       " 'atomic',\n",
       " 'attack',\n",
       " 'attacks',\n",
       " 'attempt',\n",
       " 'attempting',\n",
       " 'attention',\n",
       " 'attraction',\n",
       " 'attractions',\n",
       " 'attribution',\n",
       " 'audience',\n",
       " 'audiences',\n",
       " 'audio',\n",
       " 'audionautix',\n",
       " 'audiophile',\n",
       " 'audition',\n",
       " 'auf',\n",
       " 'august',\n",
       " 'aur',\n",
       " 'austin',\n",
       " 'australia',\n",
       " 'australian',\n",
       " 'austria',\n",
       " 'austrian',\n",
       " 'authentic',\n",
       " 'author',\n",
       " 'authority',\n",
       " 'auto',\n",
       " 'automated',\n",
       " 'automatic',\n",
       " 'automatically',\n",
       " 'automation',\n",
       " 'automobile',\n",
       " 'automotive',\n",
       " 'available',\n",
       " 'average',\n",
       " 'aviation',\n",
       " 'avocado',\n",
       " 'avoid',\n",
       " 'award',\n",
       " 'awarded',\n",
       " 'awards',\n",
       " 'aware',\n",
       " 'awareness',\n",
       " 'away',\n",
       " 'awesome',\n",
       " 'axis',\n",
       " 'baare',\n",
       " 'baby',\n",
       " 'babyfirst',\n",
       " 'bach',\n",
       " 'back',\n",
       " 'background',\n",
       " 'backstage',\n",
       " 'backwards',\n",
       " 'bacon',\n",
       " 'bad',\n",
       " 'bag',\n",
       " 'bags',\n",
       " 'bailey',\n",
       " 'bake',\n",
       " 'baked',\n",
       " 'bakery',\n",
       " 'baking',\n",
       " 'balance',\n",
       " 'bali',\n",
       " 'ball',\n",
       " 'balloon',\n",
       " 'balls',\n",
       " 'balm',\n",
       " 'ban',\n",
       " 'banana',\n",
       " 'band',\n",
       " 'bandish',\n",
       " 'bands',\n",
       " 'bang',\n",
       " 'bangkok',\n",
       " 'bangladesh',\n",
       " 'bank',\n",
       " 'banned',\n",
       " 'banner',\n",
       " 'bar',\n",
       " 'barbie',\n",
       " 'bars',\n",
       " 'base',\n",
       " 'based',\n",
       " 'basic',\n",
       " 'basically',\n",
       " 'basics',\n",
       " 'basil',\n",
       " 'basis',\n",
       " 'bass',\n",
       " 'bath',\n",
       " 'bathroom',\n",
       " 'batteries',\n",
       " 'battery',\n",
       " 'battle',\n",
       " 'battlefield',\n",
       " 'battles',\n",
       " 'bay',\n",
       " 'bbc',\n",
       " 'bbq',\n",
       " 'be',\n",
       " 'beach',\n",
       " 'beaches',\n",
       " 'bean',\n",
       " 'beans',\n",
       " 'bear',\n",
       " 'beat',\n",
       " 'beats',\n",
       " 'beautiful',\n",
       " 'beauty',\n",
       " 'became',\n",
       " 'because',\n",
       " 'beck',\n",
       " 'become',\n",
       " 'becomes',\n",
       " 'becoming',\n",
       " 'bed',\n",
       " 'beef',\n",
       " 'been',\n",
       " 'beethoven',\n",
       " 'before',\n",
       " 'befree',\n",
       " 'began',\n",
       " 'begin',\n",
       " 'beginners',\n",
       " 'beginning',\n",
       " 'begins',\n",
       " 'behind',\n",
       " 'beijing',\n",
       " 'being',\n",
       " 'believe',\n",
       " 'believed',\n",
       " 'believin',\n",
       " 'bell',\n",
       " 'belly',\n",
       " 'belong',\n",
       " 'belongs',\n",
       " 'beloved',\n",
       " 'below',\n",
       " 'ben',\n",
       " 'benefit',\n",
       " 'benefits',\n",
       " 'bengali',\n",
       " 'bento',\n",
       " 'berlin',\n",
       " 'besides',\n",
       " 'best',\n",
       " 'beta',\n",
       " 'better',\n",
       " 'between',\n",
       " 'beverage',\n",
       " 'beyond',\n",
       " 'bhairav',\n",
       " 'bhi',\n",
       " 'bhiwandi',\n",
       " 'bhunesh',\n",
       " 'bicycle',\n",
       " 'bieber',\n",
       " 'big',\n",
       " 'bigger',\n",
       " 'biggest',\n",
       " 'bihag',\n",
       " 'bike',\n",
       " 'bill',\n",
       " 'billie',\n",
       " 'billion',\n",
       " 'billy',\n",
       " 'binaural',\n",
       " 'biographies',\n",
       " 'biological',\n",
       " 'biology',\n",
       " 'bird',\n",
       " 'birds',\n",
       " 'birth',\n",
       " 'birthday',\n",
       " 'biryani',\n",
       " 'biscuits',\n",
       " 'bit',\n",
       " 'bite',\n",
       " 'bits',\n",
       " 'bitter',\n",
       " 'black',\n",
       " 'blade',\n",
       " 'blah',\n",
       " 'blend',\n",
       " 'blind',\n",
       " 'block',\n",
       " 'blocks',\n",
       " 'blog',\n",
       " 'blogger',\n",
       " 'bloggers',\n",
       " 'blogging',\n",
       " 'blogs',\n",
       " 'blood',\n",
       " 'blossom',\n",
       " 'blow',\n",
       " 'blue',\n",
       " 'blues',\n",
       " 'bluetooth',\n",
       " 'board',\n",
       " 'boarding',\n",
       " 'boards',\n",
       " 'boat',\n",
       " 'boats',\n",
       " 'bob',\n",
       " 'body',\n",
       " 'boil',\n",
       " 'boiled',\n",
       " 'bojan',\n",
       " 'bomb',\n",
       " 'bombing',\n",
       " 'bombs',\n",
       " 'bon',\n",
       " 'bones',\n",
       " 'bonus',\n",
       " 'boogie',\n",
       " 'book',\n",
       " 'books',\n",
       " 'boom',\n",
       " 'boost',\n",
       " 'booster',\n",
       " 'border',\n",
       " 'bored',\n",
       " 'boring',\n",
       " 'born',\n",
       " 'boston',\n",
       " 'both',\n",
       " 'bottle',\n",
       " 'bottom',\n",
       " 'bought',\n",
       " 'bowl',\n",
       " 'bowls',\n",
       " 'box',\n",
       " 'boxes',\n",
       " 'boy',\n",
       " 'boyfriend',\n",
       " 'boys',\n",
       " 'bpm',\n",
       " 'brad',\n",
       " 'brain',\n",
       " 'brainwave',\n",
       " 'brand',\n",
       " 'branded',\n",
       " 'brandon',\n",
       " 'brands',\n",
       " 'brazil',\n",
       " 'bread',\n",
       " 'break',\n",
       " 'breakfast',\n",
       " 'breakfastclub',\n",
       " 'breaking',\n",
       " 'breaks',\n",
       " 'breakthrough',\n",
       " 'brett',\n",
       " 'brian',\n",
       " 'bridge',\n",
       " 'brief',\n",
       " 'bright',\n",
       " 'brindavani',\n",
       " 'bring',\n",
       " 'bringing',\n",
       " 'brings',\n",
       " 'britain',\n",
       " 'british',\n",
       " 'broadcast',\n",
       " 'broccoli',\n",
       " 'broke',\n",
       " 'broken',\n",
       " 'brooklyn',\n",
       " 'bros',\n",
       " 'broth',\n",
       " 'brother',\n",
       " 'brothers',\n",
       " 'brought',\n",
       " 'brown',\n",
       " 'brush',\n",
       " 'brushes',\n",
       " 'bt',\n",
       " 'bubble',\n",
       " 'bucket',\n",
       " 'budapest',\n",
       " 'buddha',\n",
       " 'budget',\n",
       " 'buffalo',\n",
       " 'build',\n",
       " 'building',\n",
       " 'buildings',\n",
       " 'builds',\n",
       " 'built',\n",
       " 'bulb',\n",
       " 'bulbs',\n",
       " 'bunch',\n",
       " 'bunches',\n",
       " 'burger',\n",
       " 'burn',\n",
       " 'burning',\n",
       " 'burns',\n",
       " 'burrito',\n",
       " 'burritoyum',\n",
       " 'bus',\n",
       " 'business',\n",
       " 'businesses',\n",
       " 'busy',\n",
       " 'but',\n",
       " 'butter',\n",
       " 'button',\n",
       " 'buy',\n",
       " 'buying',\n",
       " 'buzzfeed',\n",
       " 'by',\n",
       " 'bóng',\n",
       " 'büchse',\n",
       " 'ca',\n",
       " 'cable',\n",
       " 'cafe',\n",
       " 'cake',\n",
       " 'california',\n",
       " 'call',\n",
       " 'called',\n",
       " 'caller',\n",
       " 'calling',\n",
       " 'calls',\n",
       " 'calm',\n",
       " 'calories',\n",
       " 'cam',\n",
       " 'cambodia',\n",
       " 'came',\n",
       " 'camera',\n",
       " 'cameras',\n",
       " 'camp',\n",
       " 'campaign',\n",
       " 'campaigns',\n",
       " 'camping',\n",
       " 'camps',\n",
       " 'campus',\n",
       " 'can',\n",
       " 'canada',\n",
       " 'canadian',\n",
       " 'canal',\n",
       " 'cancer',\n",
       " 'canciones',\n",
       " 'canción',\n",
       " 'candy',\n",
       " 'cannabis',\n",
       " 'cannot',\n",
       " 'canon',\n",
       " 'cant',\n",
       " 'canvas',\n",
       " 'capabilities',\n",
       " 'capable',\n",
       " 'capacity',\n",
       " 'cape',\n",
       " 'capital',\n",
       " 'caption',\n",
       " 'captions',\n",
       " 'capture',\n",
       " 'captured',\n",
       " 'car',\n",
       " 'carbon',\n",
       " 'card',\n",
       " 'cardboard',\n",
       " 'cards',\n",
       " 'care',\n",
       " 'career',\n",
       " 'careful',\n",
       " 'carefully',\n",
       " 'carried',\n",
       " 'carrier',\n",
       " 'carrot',\n",
       " 'carrots',\n",
       " 'carry',\n",
       " 'carrying',\n",
       " 'cars',\n",
       " 'carter',\n",
       " 'cartoon',\n",
       " 'cartoons',\n",
       " 'case',\n",
       " 'cases',\n",
       " 'cash',\n",
       " 'cast',\n",
       " 'castle',\n",
       " 'casualties',\n",
       " 'cat',\n",
       " 'catastrophe',\n",
       " 'catch',\n",
       " 'category',\n",
       " 'cattle',\n",
       " 'caught',\n",
       " 'cauliflower',\n",
       " 'cause',\n",
       " 'caused',\n",
       " 'causes',\n",
       " 'cave',\n",
       " 'cbs',\n",
       " 'cbse',\n",
       " 'cc',\n",
       " 'cd',\n",
       " 'cds',\n",
       " 'celebrate',\n",
       " 'celebrating',\n",
       " 'celebration',\n",
       " 'celebrity',\n",
       " 'cell',\n",
       " 'cello',\n",
       " 'cellphone',\n",
       " 'cells',\n",
       " 'cellular',\n",
       " 'cement',\n",
       " 'center',\n",
       " 'central',\n",
       " 'centre',\n",
       " 'centuries',\n",
       " 'century',\n",
       " 'ceo',\n",
       " 'ceramic',\n",
       " 'certain',\n",
       " 'certainly',\n",
       " 'certified',\n",
       " 'cgl',\n",
       " 'ch',\n",
       " 'chaat',\n",
       " 'chain',\n",
       " 'chair',\n",
       " 'challenge',\n",
       " 'challenges',\n",
       " 'challenging',\n",
       " 'champion',\n",
       " 'chance',\n",
       " 'change',\n",
       " 'changed',\n",
       " 'changes',\n",
       " 'changing',\n",
       " 'channel',\n",
       " 'channelbased',\n",
       " 'channelbhim',\n",
       " 'channels',\n",
       " 'channelyou',\n",
       " 'chaos',\n",
       " 'chappal',\n",
       " 'chappell',\n",
       " 'chapter',\n",
       " 'character',\n",
       " 'characterized',\n",
       " 'characters',\n",
       " 'charge',\n",
       " 'charger',\n",
       " 'charging',\n",
       " 'charlamagne',\n",
       " 'charles',\n",
       " 'charlie',\n",
       " 'charm',\n",
       " 'chart',\n",
       " 'charts',\n",
       " 'chat',\n",
       " 'cheap',\n",
       " 'cheaper',\n",
       " 'cheapest',\n",
       " 'check',\n",
       " 'cheddar',\n",
       " 'cheese',\n",
       " 'chef',\n",
       " 'chemical',\n",
       " 'chemicals',\n",
       " 'chemistry',\n",
       " 'chengdu',\n",
       " 'chicago',\n",
       " 'chicken',\n",
       " 'chief',\n",
       " 'child',\n",
       " 'children',\n",
       " 'childrens',\n",
       " 'chili',\n",
       " 'chill',\n",
       " 'chillhop',\n",
       " 'chilli',\n",
       " 'china',\n",
       " 'chinese',\n",
       " 'chips',\n",
       " 'chocolate',\n",
       " 'choice',\n",
       " 'choose',\n",
       " 'choosing',\n",
       " 'chopped',\n",
       " 'chose',\n",
       " 'chosen',\n",
       " 'chris',\n",
       " 'christian',\n",
       " 'christmas',\n",
       " 'chrome',\n",
       " 'church',\n",
       " 'churchill',\n",
       " 'chutney',\n",
       " 'cinnamon',\n",
       " 'circle',\n",
       " 'cities',\n",
       " 'citizens',\n",
       " 'city',\n",
       " 'civil',\n",
       " 'civilian',\n",
       " 'civilians',\n",
       " 'civilization',\n",
       " 'civilizations',\n",
       " 'claim',\n",
       " 'claims',\n",
       " 'clarifier',\n",
       " 'class',\n",
       " 'classes',\n",
       " 'classic',\n",
       " 'classical',\n",
       " 'classmates',\n",
       " 'classroom',\n",
       " 'clay',\n",
       " 'clean',\n",
       " 'cleaner',\n",
       " 'cleaning',\n",
       " 'clear',\n",
       " 'clearly',\n",
       " 'click',\n",
       " 'clicking',\n",
       " 'clients',\n",
       " 'climate',\n",
       " 'clip',\n",
       " 'clips',\n",
       " 'clock',\n",
       " 'close',\n",
       " 'closed',\n",
       " 'closely',\n",
       " 'closer',\n",
       " 'clothes',\n",
       " 'clothing',\n",
       " 'cloud',\n",
       " 'clouds',\n",
       " 'cloves',\n",
       " 'club',\n",
       " 'clubs',\n",
       " 'cm',\n",
       " 'cnc',\n",
       " 'co',\n",
       " 'coaching',\n",
       " 'coast',\n",
       " 'coated',\n",
       " 'coconut',\n",
       " 'cod',\n",
       " 'code',\n",
       " 'codes',\n",
       " 'coffee',\n",
       " 'cold',\n",
       " 'cole',\n",
       " 'collaboration',\n",
       " 'collaborations',\n",
       " 'collaborative',\n",
       " 'colleagues',\n",
       " 'collect',\n",
       " 'collection',\n",
       " 'collective',\n",
       " 'collector',\n",
       " 'college',\n",
       " 'colleges',\n",
       " 'color',\n",
       " 'colored',\n",
       " 'colorful',\n",
       " 'coloring',\n",
       " 'colors',\n",
       " 'colour',\n",
       " 'com',\n",
       " 'combat',\n",
       " 'combination',\n",
       " 'combine',\n",
       " 'combined',\n",
       " 'combines',\n",
       " 'combining',\n",
       " 'come',\n",
       " 'comedy',\n",
       " 'comes',\n",
       " 'comic',\n",
       " 'coming',\n",
       " 'commander',\n",
       " 'comment',\n",
       " 'commentary',\n",
       " 'comments',\n",
       " 'commercial',\n",
       " 'commission',\n",
       " 'commitment',\n",
       " 'committed',\n",
       " 'common',\n",
       " 'commonly',\n",
       " 'commons',\n",
       " 'communicate',\n",
       " 'communication',\n",
       " 'communications',\n",
       " 'communities',\n",
       " 'community',\n",
       " 'como',\n",
       " 'compact',\n",
       " 'companies',\n",
       " 'company',\n",
       " 'companys',\n",
       " 'compare',\n",
       " 'compared',\n",
       " 'compatible',\n",
       " 'competition',\n",
       " 'competitive',\n",
       " 'compilation',\n",
       " 'complete',\n",
       " 'completed',\n",
       " 'completely',\n",
       " 'complex',\n",
       " 'complicated',\n",
       " 'components',\n",
       " 'composed',\n",
       " 'composer',\n",
       " 'composers',\n",
       " 'composite',\n",
       " 'composites',\n",
       " 'composition',\n",
       " 'compositions',\n",
       " 'comprehensive',\n",
       " 'computer',\n",
       " 'computers',\n",
       " 'computing',\n",
       " 'con',\n",
       " 'conan',\n",
       " 'concentration',\n",
       " 'concept',\n",
       " 'concepts',\n",
       " 'concert',\n",
       " 'concerto',\n",
       " 'concerts',\n",
       " 'concrete',\n",
       " 'conditions',\n",
       " 'conducted',\n",
       " 'confectionery',\n",
       " 'conference',\n",
       " 'confirmed',\n",
       " 'conflict',\n",
       " 'conflicts',\n",
       " 'congress',\n",
       " 'connect',\n",
       " 'connected',\n",
       " 'connection',\n",
       " 'connects',\n",
       " 'consider',\n",
       " 'considered',\n",
       " 'consists',\n",
       " 'constant',\n",
       " 'constantly',\n",
       " 'construction',\n",
       " 'consultancy',\n",
       " 'consultant',\n",
       " 'consumer',\n",
       " 'consumers',\n",
       " 'consumption',\n",
       " 'contact',\n",
       " 'contain',\n",
       " 'container',\n",
       " 'contains',\n",
       " 'contemporary',\n",
       " 'content',\n",
       " 'contents',\n",
       " 'context',\n",
       " 'continent',\n",
       " 'continue',\n",
       " 'continued',\n",
       " 'continues',\n",
       " 'continuing',\n",
       " 'continuous',\n",
       " 'contract',\n",
       " 'contribute',\n",
       " 'contribution',\n",
       " 'contributions',\n",
       " 'control',\n",
       " 'controversial',\n",
       " 'conversation',\n",
       " 'convert',\n",
       " 'cook',\n",
       " 'cooked',\n",
       " 'cookie',\n",
       " 'cookies',\n",
       " 'cooking',\n",
       " 'cool',\n",
       " 'cooling',\n",
       " 'cooper',\n",
       " 'cooperation',\n",
       " 'coordinator',\n",
       " 'copper',\n",
       " 'copy',\n",
       " 'copyright',\n",
       " 'copyrighted',\n",
       " 'corden',\n",
       " 'cordova',\n",
       " 'core',\n",
       " 'coriander',\n",
       " 'corn',\n",
       " 'corner',\n",
       " 'corporate',\n",
       " 'corporation',\n",
       " 'correction',\n",
       " 'correspondents',\n",
       " 'cosmic',\n",
       " 'cost',\n",
       " 'costa',\n",
       " 'costs',\n",
       " 'cottage',\n",
       " 'cotton',\n",
       " 'could',\n",
       " 'couldnt',\n",
       " 'council',\n",
       " 'count',\n",
       " 'countries',\n",
       " 'country',\n",
       " 'county',\n",
       " 'couple',\n",
       " 'course',\n",
       " 'courses',\n",
       " 'court',\n",
       " 'courtesy',\n",
       " 'cover',\n",
       " 'coverage',\n",
       " 'covered',\n",
       " 'covering',\n",
       " 'covers',\n",
       " 'cpu',\n",
       " 'crab',\n",
       " 'crack',\n",
       " 'craft',\n",
       " 'crafting',\n",
       " 'crafts',\n",
       " 'crash',\n",
       " 'crazy',\n",
       " 'cream',\n",
       " ...]"
      ]
     },
     "execution_count": 73,
     "metadata": {},
     "output_type": "execute_result"
    }
   ],
   "source": [
    "v.get_feature_names()"
   ]
  },
  {
   "cell_type": "code",
   "execution_count": 79,
   "metadata": {
    "collapsed": true
   },
   "outputs": [],
   "source": [
    "test_features = v.transform(x_test['Description'])"
   ]
  },
  {
   "cell_type": "code",
   "execution_count": 80,
   "metadata": {},
   "outputs": [
    {
     "data": {
      "text/plain": [
       "(2161, 10000)"
      ]
     },
     "execution_count": 80,
     "metadata": {},
     "output_type": "execute_result"
    }
   ],
   "source": [
    "test_features.shape"
   ]
  },
  {
   "cell_type": "markdown",
   "metadata": {},
   "source": [
    "## Category 1"
   ]
  },
  {
   "cell_type": "markdown",
   "metadata": {},
   "source": [
    "Logictic Regression, SVM, Naive Bayes"
   ]
  },
  {
   "cell_type": "code",
   "execution_count": 58,
   "metadata": {
    "collapsed": true
   },
   "outputs": [],
   "source": [
    "from sklearn.naive_bayes import MultinomialNB"
   ]
  },
  {
   "cell_type": "code",
   "execution_count": 82,
   "metadata": {},
   "outputs": [
    {
     "name": "stderr",
     "output_type": "stream",
     "text": [
      "/Applications/anaconda3/lib/python3.6/site-packages/sklearn/utils/validation.py:761: DataConversionWarning: A column-vector y was passed when a 1d array was expected. Please change the shape of y to (n_samples, ), for example using ravel().\n",
      "  y = column_or_1d(y, warn=True)\n"
     ]
    },
    {
     "data": {
      "text/plain": [
       "0.7987043035631652"
      ]
     },
     "execution_count": 82,
     "metadata": {},
     "output_type": "execute_result"
    }
   ],
   "source": [
    "multinomial = MultinomialNB()\n",
    "multinomial.fit(train_features, y_train)\n",
    "multinomial.score(test_features, y_test)"
   ]
  },
  {
   "cell_type": "code",
   "execution_count": 83,
   "metadata": {
    "collapsed": true
   },
   "outputs": [],
   "source": [
    "from sklearn.linear_model import LogisticRegression"
   ]
  },
  {
   "cell_type": "code",
   "execution_count": 84,
   "metadata": {},
   "outputs": [
    {
     "name": "stderr",
     "output_type": "stream",
     "text": [
      "/Applications/anaconda3/lib/python3.6/site-packages/sklearn/linear_model/logistic.py:433: FutureWarning: Default solver will be changed to 'lbfgs' in 0.22. Specify a solver to silence this warning.\n",
      "  FutureWarning)\n",
      "/Applications/anaconda3/lib/python3.6/site-packages/sklearn/utils/validation.py:761: DataConversionWarning: A column-vector y was passed when a 1d array was expected. Please change the shape of y to (n_samples, ), for example using ravel().\n",
      "  y = column_or_1d(y, warn=True)\n",
      "/Applications/anaconda3/lib/python3.6/site-packages/sklearn/linear_model/logistic.py:460: FutureWarning: Default multi_class will be changed to 'auto' in 0.22. Specify the multi_class option to silence this warning.\n",
      "  \"this warning.\", FutureWarning)\n"
     ]
    },
    {
     "data": {
      "text/plain": [
       "0.8329477093937991"
      ]
     },
     "execution_count": 84,
     "metadata": {},
     "output_type": "execute_result"
    }
   ],
   "source": [
    "logistic = LogisticRegression()\n",
    "logistic.fit(train_features, y_train)\n",
    "logistic.score(test_features, y_test)"
   ]
  },
  {
   "cell_type": "code",
   "execution_count": 85,
   "metadata": {
    "collapsed": true
   },
   "outputs": [],
   "source": [
    "from sklearn import svm"
   ]
  },
  {
   "cell_type": "code",
   "execution_count": 86,
   "metadata": {},
   "outputs": [
    {
     "name": "stderr",
     "output_type": "stream",
     "text": [
      "/Applications/anaconda3/lib/python3.6/site-packages/sklearn/utils/validation.py:761: DataConversionWarning: A column-vector y was passed when a 1d array was expected. Please change the shape of y to (n_samples, ), for example using ravel().\n",
      "  y = column_or_1d(y, warn=True)\n",
      "/Applications/anaconda3/lib/python3.6/site-packages/sklearn/svm/base.py:196: FutureWarning: The default value of gamma will change from 'auto' to 'scale' in version 0.22 to account better for unscaled features. Set gamma explicitly to 'auto' or 'scale' to avoid this warning.\n",
      "  \"avoid this warning.\", FutureWarning)\n"
     ]
    },
    {
     "data": {
      "text/plain": [
       "0.16566404442387783"
      ]
     },
     "execution_count": 86,
     "metadata": {},
     "output_type": "execute_result"
    }
   ],
   "source": [
    "sv = svm.SVC(kernel='rbf')\n",
    "sv.fit(train_features, y_train)\n",
    "sv.score(test_features, y_test)"
   ]
  },
  {
   "cell_type": "code",
   "execution_count": 87,
   "metadata": {},
   "outputs": [
    {
     "name": "stderr",
     "output_type": "stream",
     "text": [
      "/Applications/anaconda3/lib/python3.6/site-packages/sklearn/utils/validation.py:761: DataConversionWarning: A column-vector y was passed when a 1d array was expected. Please change the shape of y to (n_samples, ), for example using ravel().\n",
      "  y = column_or_1d(y, warn=True)\n"
     ]
    },
    {
     "data": {
      "text/plain": [
       "0.8218417399352151"
      ]
     },
     "execution_count": 87,
     "metadata": {},
     "output_type": "execute_result"
    }
   ],
   "source": [
    "sv = svm.SVC(kernel='linear')\n",
    "sv.fit(train_features, y_train)\n",
    "sv.score(test_features, y_test)"
   ]
  },
  {
   "cell_type": "markdown",
   "metadata": {},
   "source": [
    "## Category 2"
   ]
  },
  {
   "cell_type": "markdown",
   "metadata": {},
   "source": [
    "Bagging, Boosting, NN"
   ]
  },
  {
   "cell_type": "code",
   "execution_count": 91,
   "metadata": {
    "collapsed": true
   },
   "outputs": [],
   "source": [
    "from sklearn.ensemble import AdaBoostClassifier\n",
    "ada=AdaBoostClassifier(n_estimators=2000,learning_rate=0.1,random_state=0)"
   ]
  },
  {
   "cell_type": "code",
   "execution_count": 92,
   "metadata": {},
   "outputs": [
    {
     "name": "stderr",
     "output_type": "stream",
     "text": [
      "/Applications/anaconda3/lib/python3.6/site-packages/sklearn/utils/validation.py:761: DataConversionWarning: A column-vector y was passed when a 1d array was expected. Please change the shape of y to (n_samples, ), for example using ravel().\n",
      "  y = column_or_1d(y, warn=True)\n"
     ]
    },
    {
     "data": {
      "text/plain": [
       "0.7542804257288293"
      ]
     },
     "execution_count": 92,
     "metadata": {},
     "output_type": "execute_result"
    }
   ],
   "source": [
    "ada.fit(train_features, y_train)\n",
    "ada.score(test_features, y_test)"
   ]
  },
  {
   "cell_type": "code",
   "execution_count": 93,
   "metadata": {},
   "outputs": [
    {
     "name": "stderr",
     "output_type": "stream",
     "text": [
      "/Applications/anaconda3/lib/python3.6/site-packages/sklearn/utils/validation.py:761: DataConversionWarning: A column-vector y was passed when a 1d array was expected. Please change the shape of y to (n_samples, ), for example using ravel().\n",
      "  y = column_or_1d(y, warn=True)\n"
     ]
    },
    {
     "data": {
      "text/plain": [
       "0.8107357704766311"
      ]
     },
     "execution_count": 93,
     "metadata": {},
     "output_type": "execute_result"
    }
   ],
   "source": [
    "from sklearn.ensemble import GradientBoostingClassifier\n",
    "gradient=GradientBoostingClassifier(n_estimators=1000,random_state=0,learning_rate=0.1)\n",
    "gradient.fit(train_features, y_train)\n",
    "gradient.score(test_features, y_test)"
   ]
  },
  {
   "cell_type": "code",
   "execution_count": 95,
   "metadata": {},
   "outputs": [
    {
     "name": "stderr",
     "output_type": "stream",
     "text": [
      "/Applications/anaconda3/lib/python3.6/site-packages/ipykernel_launcher.py:3: DataConversionWarning: A column-vector y was passed when a 1d array was expected. Please change the shape of y to (n_samples,), for example using ravel().\n",
      "  This is separate from the ipykernel package so we can avoid doing imports until\n"
     ]
    },
    {
     "data": {
      "text/plain": [
       "0.8329477093937991"
      ]
     },
     "execution_count": 95,
     "metadata": {},
     "output_type": "execute_result"
    }
   ],
   "source": [
    "from sklearn.ensemble import RandomForestClassifier\n",
    "randomf=RandomForestClassifier(n_estimators=700,random_state=0)\n",
    "randomf.fit(train_features, y_train)\n",
    "randomf.score(test_features, y_test)"
   ]
  },
  {
   "cell_type": "markdown",
   "metadata": {},
   "source": [
    "## Category 3"
   ]
  },
  {
   "cell_type": "markdown",
   "metadata": {},
   "source": [
    "LSTM, CNN, RNN"
   ]
  },
  {
   "cell_type": "code",
   "execution_count": 116,
   "metadata": {
    "collapsed": true
   },
   "outputs": [],
   "source": [
    "from sklearn.preprocessing import LabelEncoder\n",
    "X = df_new.iloc[:,2]\n",
    "Y = df_new.Category\n",
    "le = LabelEncoder()\n",
    "Y = le.fit_transform(Y)"
   ]
  },
  {
   "cell_type": "code",
   "execution_count": 111,
   "metadata": {},
   "outputs": [
    {
     "data": {
      "text/plain": [
       "array([1, 1, 1, ..., 2, 2, 2])"
      ]
     },
     "execution_count": 111,
     "metadata": {},
     "output_type": "execute_result"
    }
   ],
   "source": [
    "Y"
   ]
  },
  {
   "cell_type": "code",
   "execution_count": 112,
   "metadata": {
    "collapsed": true
   },
   "outputs": [],
   "source": [
    "Y = Y.reshape(-1,1)"
   ]
  },
  {
   "cell_type": "code",
   "execution_count": 113,
   "metadata": {},
   "outputs": [
    {
     "data": {
      "text/plain": [
       "array([[1],\n",
       "       [1],\n",
       "       [1],\n",
       "       ...,\n",
       "       [2],\n",
       "       [2],\n",
       "       [2]])"
      ]
     },
     "execution_count": 113,
     "metadata": {},
     "output_type": "execute_result"
    }
   ],
   "source": [
    "Y"
   ]
  },
  {
   "cell_type": "code",
   "execution_count": 117,
   "metadata": {
    "collapsed": true
   },
   "outputs": [],
   "source": [
    "X_train,X_test,Y_train,Y_test = train_test_split(X,Y,random_state=0)"
   ]
  },
  {
   "cell_type": "code",
   "execution_count": 118,
   "metadata": {
    "collapsed": true
   },
   "outputs": [],
   "source": [
    "max_words = 1000\n",
    "max_len = 150\n",
    "tok = Tokenizer(num_words=max_words)\n",
    "tok.fit_on_texts(X_train)\n",
    "sequences = tok.texts_to_sequences(X_train)\n",
    "sequences_matrix = sequence.pad_sequences(sequences,maxlen=max_len)"
   ]
  },
  {
   "cell_type": "code",
   "execution_count": 134,
   "metadata": {
    "collapsed": true
   },
   "outputs": [],
   "source": [
    "def RNN():\n",
    "    inputs = Input(name='inputs',shape=[max_len])\n",
    "    layer = Embedding(max_words,50,input_length=max_len)(inputs)\n",
    "    layer = LSTM(64)(layer)\n",
    "    layer = Dense(256,name='FC1')(layer)\n",
    "    layer = Activation('relu')(layer)\n",
    "    layer = Dense(1,name='out_layer')(layer)\n",
    "    layer = Activation('sigmoid')(layer)\n",
    "    model = Model(inputs=inputs,outputs=layer)\n",
    "    return model"
   ]
  },
  {
   "cell_type": "code",
   "execution_count": 135,
   "metadata": {
    "collapsed": true
   },
   "outputs": [],
   "source": [
    "from keras.layers import LSTM, Activation, Dense, Dropout, Input, Embedding\n",
    "from keras.models import Model\n",
    "from keras.callbacks import EarlyStopping\n",
    "from keras.optimizers import RMSprop"
   ]
  },
  {
   "cell_type": "code",
   "execution_count": 136,
   "metadata": {},
   "outputs": [
    {
     "name": "stdout",
     "output_type": "stream",
     "text": [
      "_________________________________________________________________\n",
      "Layer (type)                 Output Shape              Param #   \n",
      "=================================================================\n",
      "inputs (InputLayer)          (None, 150)               0         \n",
      "_________________________________________________________________\n",
      "embedding_7 (Embedding)      (None, 150, 50)           50000     \n",
      "_________________________________________________________________\n",
      "lstm_5 (LSTM)                (None, 64)                29440     \n",
      "_________________________________________________________________\n",
      "FC1 (Dense)                  (None, 256)               16640     \n",
      "_________________________________________________________________\n",
      "activation_9 (Activation)    (None, 256)               0         \n",
      "_________________________________________________________________\n",
      "out_layer (Dense)            (None, 1)                 257       \n",
      "_________________________________________________________________\n",
      "activation_10 (Activation)   (None, 1)                 0         \n",
      "=================================================================\n",
      "Total params: 96,337\n",
      "Trainable params: 96,337\n",
      "Non-trainable params: 0\n",
      "_________________________________________________________________\n"
     ]
    }
   ],
   "source": [
    "model = RNN()\n",
    "model.summary()\n",
    "model.compile(loss='binary_crossentropy',optimizer=RMSprop(),metrics=['accuracy'])"
   ]
  },
  {
   "cell_type": "code",
   "execution_count": 137,
   "metadata": {},
   "outputs": [
    {
     "name": "stdout",
     "output_type": "stream",
     "text": [
      "Train on 5184 samples, validate on 1297 samples\n",
      "Epoch 1/10\n",
      "5184/5184 [==============================] - 11s 2ms/step - loss: -19.5354 - acc: 0.1715 - val_loss: -24.1164 - val_acc: 0.1611\n",
      "Epoch 2/10\n",
      "5184/5184 [==============================] - 11s 2ms/step - loss: -23.7014 - acc: 0.1715 - val_loss: -24.1164 - val_acc: 0.1611\n"
     ]
    },
    {
     "data": {
      "text/plain": [
       "<keras.callbacks.History at 0x1a40ff8710>"
      ]
     },
     "execution_count": 137,
     "metadata": {},
     "output_type": "execute_result"
    }
   ],
   "source": [
    "model.fit(sequences_matrix,Y_train,batch_size=128,epochs=10,\n",
    "          validation_split=0.2,callbacks=[EarlyStopping(monitor='val_loss',min_delta=0.0001)])"
   ]
  },
  {
   "cell_type": "markdown",
   "metadata": {},
   "source": [
    "## Precision, Recall And F1 score"
   ]
  },
  {
   "cell_type": "code",
   "execution_count": 143,
   "metadata": {
    "collapsed": true
   },
   "outputs": [],
   "source": [
    "import seaborn as sns\n",
    "import matplotlib.pyplot as plt"
   ]
  },
  {
   "cell_type": "code",
   "execution_count": 140,
   "metadata": {
    "collapsed": true
   },
   "outputs": [],
   "source": [
    "log_y = logistic.predict(test_features)\n",
    "rand_y = randomf.predict(test_features)"
   ]
  },
  {
   "cell_type": "code",
   "execution_count": 141,
   "metadata": {
    "collapsed": true
   },
   "outputs": [],
   "source": [
    "from sklearn.metrics import confusion_matrix,classification_report"
   ]
  },
  {
   "cell_type": "code",
   "execution_count": 144,
   "metadata": {
    "collapsed": true
   },
   "outputs": [],
   "source": [
    "%matplotlib inline"
   ]
  },
  {
   "cell_type": "code",
   "execution_count": 149,
   "metadata": {},
   "outputs": [
    {
     "data": {
      "image/png": "[encoded data removed]",
      "text/plain": [
       "<matplotlib.figure.Figure at 0x1a3e473748>"
      ]
     },
     "metadata": {},
     "output_type": "display_data"
    }
   ],
   "source": [
    "sns.heatmap(confusion_matrix(y_test,log_y),annot=True)\n",
    "plt.title('Logistic Regression Confusion Matrix')\n",
    "f = plt.gcf()\n",
    "f.set_size_inches(10,8)"
   ]
  },
  {
   "cell_type": "code",
   "execution_count": 150,
   "metadata": {},
   "outputs": [
    {
     "data": {
      "image/png": "[encoded data removed]",
      "text/plain": [
       "<matplotlib.figure.Figure at 0x1a3e59dcc0>"
      ]
     },
     "metadata": {},
     "output_type": "display_data"
    }
   ],
   "source": [
    "sns.heatmap(confusion_matrix(y_test,rand_y),annot=True)\n",
    "plt.title('Random Forest Confusion Matrix')\n",
    "f = plt.gcf()\n",
    "f.set_size_inches(10,8)"
   ]
  },
  {
   "cell_type": "code",
   "execution_count": 190,
   "metadata": {},
   "outputs": [
    {
     "name": "stdout",
     "output_type": "stream",
     "text": [
      "Logistic Regression Classification report :\n",
      "                        precision    recall  f1-score   support\n",
      "\n",
      "         Art and Music       0.81      0.86      0.83       371\n",
      "                  Food       0.83      0.81      0.82       358\n",
      "               History       0.88      0.83      0.85       336\n",
      "         Manufacturing       0.83      0.82      0.83       347\n",
      "Science and Technology       0.89      0.89      0.89       372\n",
      "          Travel Blogs       0.78      0.78      0.78       377\n",
      "\n",
      "             micro avg       0.83      0.83      0.83      2161\n",
      "             macro avg       0.83      0.83      0.83      2161\n",
      "          weighted avg       0.83      0.83      0.83      2161\n",
      "\n"
     ]
    }
   ],
   "source": [
    "print('Logistic Regression Classification report :')\n",
    "print(classification_report(y_test,log_y))"
   ]
  },
  {
   "cell_type": "code",
   "execution_count": 191,
   "metadata": {},
   "outputs": [
    {
     "name": "stdout",
     "output_type": "stream",
     "text": [
      "Random Forest Classification report :\n",
      "                        precision    recall  f1-score   support\n",
      "\n",
      "         Art and Music       0.78      0.87      0.82       371\n",
      "                  Food       0.83      0.84      0.83       358\n",
      "               History       0.87      0.85      0.86       336\n",
      "         Manufacturing       0.89      0.81      0.85       347\n",
      "Science and Technology       0.86      0.88      0.87       372\n",
      "          Travel Blogs       0.78      0.74      0.76       377\n",
      "\n",
      "             micro avg       0.83      0.83      0.83      2161\n",
      "             macro avg       0.84      0.83      0.83      2161\n",
      "          weighted avg       0.83      0.83      0.83      2161\n",
      "\n"
     ]
    }
   ],
   "source": [
    "print('Random Forest Classification report :')\n",
    "print(classification_report(y_test,rand_y))"
   ]
  },
  {
   "cell_type": "code",
   "execution_count": 155,
   "metadata": {
    "collapsed": true
   },
   "outputs": [],
   "source": [
    "from sklearn.metrics import recall_score,precision_score,f1_score"
   ]
  },
  {
   "cell_type": "code",
   "execution_count": 158,
   "metadata": {
    "collapsed": true
   },
   "outputs": [],
   "source": [
    "log_r = recall_score(y_test,log_y,average='micro')\n",
    "log_p = precision_score(y_test,log_y,average='micro')\n",
    "log_f1 = f1_score(y_test,log_y,average='micro')"
   ]
  },
  {
   "cell_type": "code",
   "execution_count": 159,
   "metadata": {
    "collapsed": true
   },
   "outputs": [],
   "source": [
    "rand_r = recall_score(y_test,rand_y,average='micro')\n",
    "rand_p = precision_score(y_test,rand_y,average='micro')\n",
    "rand_f1 = f1_score(y_test,rand_y,average='micro')"
   ]
  },
  {
   "cell_type": "code",
   "execution_count": 193,
   "metadata": {
    "collapsed": true
   },
   "outputs": [],
   "source": [
    "data = [[log_p,log_r,log_f1,'Logistic Regression'],[rand_p,rand_r,rand_f1,'Random Forest']]\n",
    "df = pd.DataFrame(data,columns=['Precision','Recall','f1-score','Algorithm'])"
   ]
  },
  {
   "cell_type": "code",
   "execution_count": 164,
   "metadata": {},
   "outputs": [
    {
     "data": {
      "text/html": [
       "<div>\n",
       "<style>\n",
       "    .dataframe thead tr:only-child th {\n",
       "        text-align: right;\n",
       "    }\n",
       "\n",
       "    .dataframe thead th {\n",
       "        text-align: left;\n",
       "    }\n",
       "\n",
       "    .dataframe tbody tr th {\n",
       "        vertical-align: top;\n",
       "    }\n",
       "</style>\n",
       "<table border=\"1\" class=\"dataframe\">\n",
       "  <thead>\n",
       "    <tr style=\"text-align: right;\">\n",
       "      <th></th>\n",
       "      <th>Precision</th>\n",
       "      <th>Recall</th>\n",
       "      <th>f1-score</th>\n",
       "      <th>Algorithm</th>\n",
       "    </tr>\n",
       "  </thead>\n",
       "  <tbody>\n",
       "    <tr>\n",
       "      <th>0</th>\n",
       "      <td>0.832948</td>\n",
       "      <td>0.832948</td>\n",
       "      <td>0.832948</td>\n",
       "      <td>Logistic Regression</td>\n",
       "    </tr>\n",
       "    <tr>\n",
       "      <th>1</th>\n",
       "      <td>0.832948</td>\n",
       "      <td>0.832948</td>\n",
       "      <td>0.832948</td>\n",
       "      <td>Random Forest</td>\n",
       "    </tr>\n",
       "  </tbody>\n",
       "</table>\n",
       "</div>"
      ],
      "text/plain": [
       "   Precision    Recall  f1-score            Algorithm\n",
       "0   0.832948  0.832948  0.832948  Logistic Regression\n",
       "1   0.832948  0.832948  0.832948        Random Forest"
      ]
     },
     "execution_count": 164,
     "metadata": {},
     "output_type": "execute_result"
    }
   ],
   "source": [
    "df.head()"
   ]
  },
  {
   "cell_type": "code",
   "execution_count": 177,
   "metadata": {},
   "outputs": [
    {
     "data": {
      "image/png": "[encoded data removed]",
      "text/plain": [
       "<matplotlib.figure.Figure at 0x1a48fa66a0>"
      ]
     },
     "metadata": {},
     "output_type": "display_data"
    }
   ],
   "source": [
    "sns.barplot(y='Precision',x='Algorithm',data=df)\n",
    "plt.title('Precision Comparison')\n",
    "f = plt.gcf()\n",
    "f.set_size_inches(10,8)"
   ]
  },
  {
   "cell_type": "code",
   "execution_count": 179,
   "metadata": {},
   "outputs": [
    {
     "data": {
      "image/png": "[encoded data removed]",
      "text/plain": [
       "<matplotlib.figure.Figure at 0x1a492eef60>"
      ]
     },
     "metadata": {},
     "output_type": "display_data"
    }
   ],
   "source": [
    "sns.barplot(y='Recall',x='Algorithm',data=df)\n",
    "plt.title('Recall Comparison')\n",
    "f = plt.gcf()\n",
    "f.set_size_inches(10,8)"
   ]
  },
  {
   "cell_type": "code",
   "execution_count": 194,
   "metadata": {},
   "outputs": [
    {
     "data": {
      "image/png": "[encoded data removed]",
      "text/plain": [
       "<matplotlib.figure.Figure at 0x1a495a8b70>"
      ]
     },
     "metadata": {},
     "output_type": "display_data"
    }
   ],
   "source": [
    "sns.barplot(y='f1-score',x='Algorithm',data=df)\n",
    "plt.title('f1-score Comparison')\n",
    "f = plt.gcf()\n",
    "f.set_size_inches(10,8)"
   ]
  }
 ],
 "metadata": {
  "kernelspec": {
   "display_name": "Python 3",
   "language": "python",
   "name": "python3"
  },
  "language_info": {
   "codemirror_mode": {
    "name": "ipython",
    "version": 3
   },
   "file_extension": ".py",
   "mimetype": "text/x-python",
   "name": "python",
   "nbconvert_exporter": "python",
   "pygments_lexer": "ipython3",
   "version": "3.6.3"
  }
 },
 "nbformat": 4,
 "nbformat_minor": 2
}
