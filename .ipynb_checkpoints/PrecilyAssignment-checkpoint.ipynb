{
 "cells": [
  {
   "cell_type": "markdown",
   "metadata": {},
   "source": [
    "# Web Scrapping using Selenium and BeautifulSoup"
   ]
  },
  {
   "cell_type": "code",
   "execution_count": null,
   "metadata": {
    "collapsed": true
   },
   "outputs": [],
   "source": [
    "import time\n",
    "import pandas as pd\n",
    "from selenium import webdriver\n",
    "from selenium.webdriver.common.keys import Keys\n",
    "from bs4 import BeautifulSoup as soup\n",
    "import requests\n",
    "\n",
    "def cat_dataframe(category,f):\n",
    "    category = category.replace(' ','+')\n",
    "    browser = webdriver.Chrome(executable_path='/Users/rishabh/Downloads/chromedriver')\n",
    "    url = 'https://www.youtube.com/results?search_query='+category\n",
    "    browser.get(url)\n",
    "    time.sleep(1)\n",
    "    body = browser.find_element_by_tag_name('body')\n",
    "    for _ in range(900):\n",
    "        body.send_keys(Keys.PAGE_DOWN)\n",
    "        time.sleep(0.2)\n",
    "    html = browser.page_source\n",
    "    soup1 = soup(html)\n",
    "    x = 0\n",
    "    for i in soup1.findAll('a',{'class':'yt-simple-endpoint style-scope ytd-video-renderer'}):\n",
    "        if(x==1700):\n",
    "            break\n",
    "        link = i['href']\n",
    "        link_url = 'https://www.youtube.com'+link\n",
    "        r = requests.get(link_url)\n",
    "        data_link = link.strip('/watch?v=')\n",
    "        data_title = i['title']\n",
    "        htmltext = r.text\n",
    "        soup2 = soup(htmltext)\n",
    "        if(len(soup2.findAll('p',{'id':'eow-description'}))==0):\n",
    "            continue\n",
    "        data_desc = soup2.findAll('p',{'id':'eow-description'})[0].text\n",
    "        x+=1\n",
    "        f.write(data_link+','+str(data_title.replace(',','|'))+','+str(data_desc.replace(',','|'))+','+category.replace('+',' ')+'\\n')\n",
    "        \n",
    "        \n",
    "\n",
    "def create_df():\n",
    "    filename = 'youtube_data.csv'\n",
    "    f = open(filename,'w')\n",
    "    headers = 'Video id,Title,Description,Category\\n'\n",
    "    f.write(headers)\n",
    "    categories = ['Science and Technology','Art and Music','Travel Blogs','Manufacturing','History','Food','World War 2','World War 1','Industrial Manufacturing','Lunch','Mobile Phones','DIY','Journey','Breakfast','Trips','Pop Music','dinner','brunch','laptop and computer', 'rock music', 'rap music', 'foreign trips']\n",
    "    for category in categories:\n",
    "        cat_dataframe(category,f)\n",
    "    f.close()\n",
    "\n",
    "        \n",
    "create_df()"
   ]
  },
  {
   "cell_type": "code",
   "execution_count": 66,
   "metadata": {},
   "outputs": [],
   "source": [
    "import pandas as pd\n",
    "df = pd.read_csv('youtube_data.csv')"
   ]
  },
  {
   "cell_type": "code",
   "execution_count": 67,
   "metadata": {},
   "outputs": [
    {
     "data": {
      "text/html": [
       "<div>\n",
       "<style>\n",
       "    .dataframe thead tr:only-child th {\n",
       "        text-align: right;\n",
       "    }\n",
       "\n",
       "    .dataframe thead th {\n",
       "        text-align: left;\n",
       "    }\n",
       "\n",
       "    .dataframe tbody tr th {\n",
       "        vertical-align: top;\n",
       "    }\n",
       "</style>\n",
       "<table border=\"1\" class=\"dataframe\">\n",
       "  <thead>\n",
       "    <tr style=\"text-align: right;\">\n",
       "      <th></th>\n",
       "      <th>Unnamed: 0</th>\n",
       "      <th>Video id</th>\n",
       "      <th>Title</th>\n",
       "      <th>Description</th>\n",
       "      <th>Category</th>\n",
       "    </tr>\n",
       "  </thead>\n",
       "  <tbody>\n",
       "    <tr>\n",
       "      <th>0</th>\n",
       "      <td>0</td>\n",
       "      <td>V2jk8PclZwg</td>\n",
       "      <td>LEVEL 9999 Street Food in Dhaka| Bangladesh - ...</td>\n",
       "      <td>Street Food in Bangladesh is AMAZING! Check ou...</td>\n",
       "      <td>Food</td>\n",
       "    </tr>\n",
       "    <tr>\n",
       "      <th>1</th>\n",
       "      <td>1</td>\n",
       "      <td>4v9G2ArswUs</td>\n",
       "      <td>Food in Sri Lanka - 1.5 KG MONSTER Crab Curry ...</td>\n",
       "      <td>Best of Sri Lanka food tour with The Hungry To...</td>\n",
       "      <td>Food</td>\n",
       "    </tr>\n",
       "    <tr>\n",
       "      <th>2</th>\n",
       "      <td>2</td>\n",
       "      <td>2ICpGbY5u5o</td>\n",
       "      <td>Ultimate Indian Street Food Breakfast In Kolka...</td>\n",
       "      <td>Veggiepaaji will show you Ultimate Indian Stre...</td>\n",
       "      <td>Food</td>\n",
       "    </tr>\n",
       "    <tr>\n",
       "      <th>3</th>\n",
       "      <td>3</td>\n",
       "      <td>_LJ93UoFD6</td>\n",
       "      <td>UNDISCOVERED Madagascar Village Food!!!</td>\n",
       "      <td>🎥STREET FOOD HEAVEN IN MADAGASCAR! » https://y...</td>\n",
       "      <td>Food</td>\n",
       "    </tr>\n",
       "    <tr>\n",
       "      <th>4</th>\n",
       "      <td>4</td>\n",
       "      <td>Az3BCtL_KY</td>\n",
       "      <td>EAT IT OR WEAR IT CHALLENGE | Food Eating Chal...</td>\n",
       "      <td>Download Nostra Pro App (A safe| secret app to...</td>\n",
       "      <td>Food</td>\n",
       "    </tr>\n",
       "  </tbody>\n",
       "</table>\n",
       "</div>"
      ],
      "text/plain": [
       "   Unnamed: 0     Video id                                              Title  \\\n",
       "0           0  V2jk8PclZwg  LEVEL 9999 Street Food in Dhaka| Bangladesh - ...   \n",
       "1           1  4v9G2ArswUs  Food in Sri Lanka - 1.5 KG MONSTER Crab Curry ...   \n",
       "2           2  2ICpGbY5u5o  Ultimate Indian Street Food Breakfast In Kolka...   \n",
       "3           3   _LJ93UoFD6            UNDISCOVERED Madagascar Village Food!!!   \n",
       "4           4   Az3BCtL_KY  EAT IT OR WEAR IT CHALLENGE | Food Eating Chal...   \n",
       "\n",
       "                                         Description Category  \n",
       "0  Street Food in Bangladesh is AMAZING! Check ou...     Food  \n",
       "1  Best of Sri Lanka food tour with The Hungry To...     Food  \n",
       "2  Veggiepaaji will show you Ultimate Indian Stre...     Food  \n",
       "3  🎥STREET FOOD HEAVEN IN MADAGASCAR! » https://y...     Food  \n",
       "4  Download Nostra Pro App (A safe| secret app to...     Food  "
      ]
     },
     "execution_count": 67,
     "metadata": {},
     "output_type": "execute_result"
    }
   ],
   "source": [
    "df.head()"
   ]
  },
  {
   "cell_type": "markdown",
   "metadata": {},
   "source": [
    "I have used categories like world war 1,2 etc. to find more videos of the category history since after a while scrolling down on youtube gives back no results."
   ]
  },
  {
   "cell_type": "code",
   "execution_count": 68,
   "metadata": {},
   "outputs": [
    {
     "data": {
      "text/plain": [
       "Art and Music             1500\n",
       "Manufacturing             1500\n",
       "Science and Technology    1500\n",
       "History                   1500\n",
       "Food                      1500\n",
       "Travel Blogs              1500\n",
       "Name: Category, dtype: int64"
      ]
     },
     "execution_count": 68,
     "metadata": {},
     "output_type": "execute_result"
    }
   ],
   "source": [
    "df['Category'].replace(['World War 1','World War 2','Industrial Manufacturing','Lunch','Mobile Phones','DIY','Journey','Breakfast','Trips','Pop Music','laptop and computer','brunch','foreign trips','dinner','rock music','rap music'],['History','History','Manufacturing','Food','Science and Technology','Manufacturing','Travel Blogs','Food','Travel Blogs','Art and Music','Science and Technology','Food','Travel Blogs','Food','Art and Music','Art and Music'],inplace=True)\n",
    "df['Category'].value_counts()\n",
    "df.drop_duplicates(inplace=True)\n",
    "# I'll be using 1500 videos from each category\n",
    "csv_food = df[df['Category']=='Food'][:1500]\n",
    "csv_science = df[df['Category']=='Science and Technology'][:1500]\n",
    "csv_travel = df[df['Category']=='Travel Blogs'][:1500]\n",
    "csv_art = df[df['Category']=='Art and Music'][:1500]\n",
    "csv_manufacture = df[df['Category']=='Manufacturing'][:1500]\n",
    "csv_history = df[df['Category']=='History'][:1500]\n",
    "df = csv_food.append([csv_science,csv_travel,csv_art,csv_manufacture,csv_history])\n",
    "df['Category'].value_counts()"
   ]
  },
  {
   "cell_type": "code",
   "execution_count": 71,
   "metadata": {
    "collapsed": true
   },
   "outputs": [],
   "source": [
    "#This is the data we will be using !\n",
    "df = df[df['Description'].notnull()]\n",
    "df.drop(['Unnamed: 0'],axis=1,inplace=True)\n",
    "\n",
    "df.to_csv('youtube_data.csv',index=False)"
   ]
  },
  {
   "cell_type": "code",
   "execution_count": 72,
   "metadata": {},
   "outputs": [
    {
     "data": {
      "text/html": [
       "<div>\n",
       "<style>\n",
       "    .dataframe thead tr:only-child th {\n",
       "        text-align: right;\n",
       "    }\n",
       "\n",
       "    .dataframe thead th {\n",
       "        text-align: left;\n",
       "    }\n",
       "\n",
       "    .dataframe tbody tr th {\n",
       "        vertical-align: top;\n",
       "    }\n",
       "</style>\n",
       "<table border=\"1\" class=\"dataframe\">\n",
       "  <thead>\n",
       "    <tr style=\"text-align: right;\">\n",
       "      <th></th>\n",
       "      <th>Video id</th>\n",
       "      <th>Title</th>\n",
       "      <th>Description</th>\n",
       "      <th>Category</th>\n",
       "    </tr>\n",
       "  </thead>\n",
       "  <tbody>\n",
       "    <tr>\n",
       "      <th>0</th>\n",
       "      <td>V2jk8PclZwg</td>\n",
       "      <td>LEVEL 9999 Street Food in Dhaka| Bangladesh - ...</td>\n",
       "      <td>Street Food in Bangladesh is AMAZING! Check ou...</td>\n",
       "      <td>Food</td>\n",
       "    </tr>\n",
       "    <tr>\n",
       "      <th>1</th>\n",
       "      <td>4v9G2ArswUs</td>\n",
       "      <td>Food in Sri Lanka - 1.5 KG MONSTER Crab Curry ...</td>\n",
       "      <td>Best of Sri Lanka food tour with The Hungry To...</td>\n",
       "      <td>Food</td>\n",
       "    </tr>\n",
       "    <tr>\n",
       "      <th>2</th>\n",
       "      <td>2ICpGbY5u5o</td>\n",
       "      <td>Ultimate Indian Street Food Breakfast In Kolka...</td>\n",
       "      <td>Veggiepaaji will show you Ultimate Indian Stre...</td>\n",
       "      <td>Food</td>\n",
       "    </tr>\n",
       "    <tr>\n",
       "      <th>3</th>\n",
       "      <td>_LJ93UoFD6</td>\n",
       "      <td>UNDISCOVERED Madagascar Village Food!!!</td>\n",
       "      <td>🎥STREET FOOD HEAVEN IN MADAGASCAR! » https://y...</td>\n",
       "      <td>Food</td>\n",
       "    </tr>\n",
       "    <tr>\n",
       "      <th>4</th>\n",
       "      <td>Az3BCtL_KY</td>\n",
       "      <td>EAT IT OR WEAR IT CHALLENGE | Food Eating Chal...</td>\n",
       "      <td>Download Nostra Pro App (A safe| secret app to...</td>\n",
       "      <td>Food</td>\n",
       "    </tr>\n",
       "  </tbody>\n",
       "</table>\n",
       "</div>"
      ],
      "text/plain": [
       "      Video id                                              Title  \\\n",
       "0  V2jk8PclZwg  LEVEL 9999 Street Food in Dhaka| Bangladesh - ...   \n",
       "1  4v9G2ArswUs  Food in Sri Lanka - 1.5 KG MONSTER Crab Curry ...   \n",
       "2  2ICpGbY5u5o  Ultimate Indian Street Food Breakfast In Kolka...   \n",
       "3   _LJ93UoFD6            UNDISCOVERED Madagascar Village Food!!!   \n",
       "4   Az3BCtL_KY  EAT IT OR WEAR IT CHALLENGE | Food Eating Chal...   \n",
       "\n",
       "                                         Description Category  \n",
       "0  Street Food in Bangladesh is AMAZING! Check ou...     Food  \n",
       "1  Best of Sri Lanka food tour with The Hungry To...     Food  \n",
       "2  Veggiepaaji will show you Ultimate Indian Stre...     Food  \n",
       "3  🎥STREET FOOD HEAVEN IN MADAGASCAR! » https://y...     Food  \n",
       "4  Download Nostra Pro App (A safe| secret app to...     Food  "
      ]
     },
     "execution_count": 72,
     "metadata": {},
     "output_type": "execute_result"
    }
   ],
   "source": [
    "df.head()"
   ]
  },
  {
   "cell_type": "markdown",
   "metadata": {},
   "source": [
    "## Cleaning Description"
   ]
  },
  {
   "cell_type": "code",
   "execution_count": 1,
   "metadata": {
    "collapsed": true
   },
   "outputs": [],
   "source": [
    "import pandas as pd"
   ]
  },
  {
   "cell_type": "code",
   "execution_count": 183,
   "metadata": {
    "collapsed": true
   },
   "outputs": [],
   "source": [
    "df = pd.read_csv('youtube_data.csv')"
   ]
  },
  {
   "cell_type": "code",
   "execution_count": 184,
   "metadata": {},
   "outputs": [
    {
     "data": {
      "text/html": [
       "<div>\n",
       "<style>\n",
       "    .dataframe thead tr:only-child th {\n",
       "        text-align: right;\n",
       "    }\n",
       "\n",
       "    .dataframe thead th {\n",
       "        text-align: left;\n",
       "    }\n",
       "\n",
       "    .dataframe tbody tr th {\n",
       "        vertical-align: top;\n",
       "    }\n",
       "</style>\n",
       "<table border=\"1\" class=\"dataframe\">\n",
       "  <thead>\n",
       "    <tr style=\"text-align: right;\">\n",
       "      <th></th>\n",
       "      <th>Video id</th>\n",
       "      <th>Title</th>\n",
       "      <th>Description</th>\n",
       "      <th>Category</th>\n",
       "    </tr>\n",
       "  </thead>\n",
       "  <tbody>\n",
       "    <tr>\n",
       "      <th>0</th>\n",
       "      <td>V2jk8PclZwg</td>\n",
       "      <td>LEVEL 9999 Street Food in Dhaka| Bangladesh - ...</td>\n",
       "      <td>Street Food in Bangladesh is AMAZING! Check ou...</td>\n",
       "      <td>Food</td>\n",
       "    </tr>\n",
       "    <tr>\n",
       "      <th>1</th>\n",
       "      <td>4v9G2ArswUs</td>\n",
       "      <td>Food in Sri Lanka - 1.5 KG MONSTER Crab Curry ...</td>\n",
       "      <td>Best of Sri Lanka food tour with The Hungry To...</td>\n",
       "      <td>Food</td>\n",
       "    </tr>\n",
       "    <tr>\n",
       "      <th>2</th>\n",
       "      <td>2ICpGbY5u5o</td>\n",
       "      <td>Ultimate Indian Street Food Breakfast In Kolka...</td>\n",
       "      <td>Veggiepaaji will show you Ultimate Indian Stre...</td>\n",
       "      <td>Food</td>\n",
       "    </tr>\n",
       "    <tr>\n",
       "      <th>3</th>\n",
       "      <td>_LJ93UoFD6</td>\n",
       "      <td>UNDISCOVERED Madagascar Village Food!!!</td>\n",
       "      <td>🎥STREET FOOD HEAVEN IN MADAGASCAR! » https://y...</td>\n",
       "      <td>Food</td>\n",
       "    </tr>\n",
       "    <tr>\n",
       "      <th>4</th>\n",
       "      <td>Az3BCtL_KY</td>\n",
       "      <td>EAT IT OR WEAR IT CHALLENGE | Food Eating Chal...</td>\n",
       "      <td>Download Nostra Pro App (A safe| secret app to...</td>\n",
       "      <td>Food</td>\n",
       "    </tr>\n",
       "  </tbody>\n",
       "</table>\n",
       "</div>"
      ],
      "text/plain": [
       "      Video id                                              Title  \\\n",
       "0  V2jk8PclZwg  LEVEL 9999 Street Food in Dhaka| Bangladesh - ...   \n",
       "1  4v9G2ArswUs  Food in Sri Lanka - 1.5 KG MONSTER Crab Curry ...   \n",
       "2  2ICpGbY5u5o  Ultimate Indian Street Food Breakfast In Kolka...   \n",
       "3   _LJ93UoFD6            UNDISCOVERED Madagascar Village Food!!!   \n",
       "4   Az3BCtL_KY  EAT IT OR WEAR IT CHALLENGE | Food Eating Chal...   \n",
       "\n",
       "                                         Description Category  \n",
       "0  Street Food in Bangladesh is AMAZING! Check ou...     Food  \n",
       "1  Best of Sri Lanka food tour with The Hungry To...     Food  \n",
       "2  Veggiepaaji will show you Ultimate Indian Stre...     Food  \n",
       "3  🎥STREET FOOD HEAVEN IN MADAGASCAR! » https://y...     Food  \n",
       "4  Download Nostra Pro App (A safe| secret app to...     Food  "
      ]
     },
     "execution_count": 184,
     "metadata": {},
     "output_type": "execute_result"
    }
   ],
   "source": [
    "df.head()"
   ]
  },
  {
   "cell_type": "code",
   "execution_count": 185,
   "metadata": {
    "collapsed": true
   },
   "outputs": [],
   "source": [
    "df.to_csv('youtube_data.csv')"
   ]
  },
  {
   "cell_type": "code",
   "execution_count": 16,
   "metadata": {
    "collapsed": true
   },
   "outputs": [],
   "source": [
    "from nltk.corpus import stopwords\n",
    "import string\n",
    "pun = list(string.punctuation)\n",
    "stop = stopwords.words('english')"
   ]
  },
  {
   "cell_type": "markdown",
   "metadata": {},
   "source": [
    "I am creating punc2 since I want punctuation marks like '@' etc. to be present in my words to help me get rid of links, email-addresses etc."
   ]
  },
  {
   "cell_type": "code",
   "execution_count": 17,
   "metadata": {
    "collapsed": true
   },
   "outputs": [],
   "source": [
    "pun2 = [i for i in pun if i not in ['@','/','-',':']]"
   ]
  },
  {
   "cell_type": "code",
   "execution_count": 18,
   "metadata": {
    "collapsed": true
   },
   "outputs": [],
   "source": [
    "df_new = df"
   ]
  },
  {
   "cell_type": "markdown",
   "metadata": {},
   "source": [
    "### Removing Punctuation"
   ]
  },
  {
   "cell_type": "markdown",
   "metadata": {},
   "source": [
    "Now one thing that often goes overlooked is the fact that when people type in some description, they may end up putting punctuation marks just after the word or before it or even in it. So this word obviously won't be treated as an english word since 'Hello' is a word but 'Hello!' is not really a word technically speaking. I have tried to fi the same below !"
   ]
  },
  {
   "cell_type": "code",
   "execution_count": 19,
   "metadata": {},
   "outputs": [
    {
     "name": "stderr",
     "output_type": "stream",
     "text": [
      "/Applications/anaconda3/lib/python3.6/site-packages/ipykernel_launcher.py:9: SettingWithCopyWarning: \n",
      "A value is trying to be set on a copy of a slice from a DataFrame.\n",
      "Try using .loc[row_indexer,col_indexer] = value instead\n",
      "\n",
      "See the caveats in the documentation: http://pandas.pydata.org/pandas-docs/stable/indexing.html#indexing-view-versus-copy\n",
      "  if __name__ == '__main__':\n"
     ]
    }
   ],
   "source": [
    "def removepunc(text):\n",
    "    t = text.split(' ')\n",
    "    li = []\n",
    "    for word in t:\n",
    "        for punc in pun2:\n",
    "            word = word.replace(punc,'')\n",
    "        li.append(word)\n",
    "    return \" \".join(li)\n",
    "df_new['Description'] = df_new['Description'].apply(removepunc)"
   ]
  },
  {
   "cell_type": "code",
   "execution_count": 20,
   "metadata": {},
   "outputs": [
    {
     "data": {
      "text/html": [
       "<div>\n",
       "<style>\n",
       "    .dataframe thead tr:only-child th {\n",
       "        text-align: right;\n",
       "    }\n",
       "\n",
       "    .dataframe thead th {\n",
       "        text-align: left;\n",
       "    }\n",
       "\n",
       "    .dataframe tbody tr th {\n",
       "        vertical-align: top;\n",
       "    }\n",
       "</style>\n",
       "<table border=\"1\" class=\"dataframe\">\n",
       "  <thead>\n",
       "    <tr style=\"text-align: right;\">\n",
       "      <th></th>\n",
       "      <th>Video id</th>\n",
       "      <th>Title</th>\n",
       "      <th>Description</th>\n",
       "      <th>Category</th>\n",
       "    </tr>\n",
       "  </thead>\n",
       "  <tbody>\n",
       "    <tr>\n",
       "      <th>0</th>\n",
       "      <td>V2jk8PclZwg</td>\n",
       "      <td>LEVEL 9999 Street Food in Dhaka| Bangladesh - ...</td>\n",
       "      <td>Street Food in Bangladesh is AMAZING Check out...</td>\n",
       "      <td>Food</td>\n",
       "    </tr>\n",
       "    <tr>\n",
       "      <th>1</th>\n",
       "      <td>4v9G2ArswUs</td>\n",
       "      <td>Food in Sri Lanka - 1.5 KG MONSTER Crab Curry ...</td>\n",
       "      <td>Best of Sri Lanka food tour with The Hungry To...</td>\n",
       "      <td>Food</td>\n",
       "    </tr>\n",
       "    <tr>\n",
       "      <th>2</th>\n",
       "      <td>2ICpGbY5u5o</td>\n",
       "      <td>Ultimate Indian Street Food Breakfast In Kolka...</td>\n",
       "      <td>Veggiepaaji will show you Ultimate Indian Stre...</td>\n",
       "      <td>Food</td>\n",
       "    </tr>\n",
       "    <tr>\n",
       "      <th>3</th>\n",
       "      <td>_LJ93UoFD6</td>\n",
       "      <td>UNDISCOVERED Madagascar Village Food!!!</td>\n",
       "      <td>🎥STREET FOOD HEAVEN IN MADAGASCAR » https://yo...</td>\n",
       "      <td>Food</td>\n",
       "    </tr>\n",
       "    <tr>\n",
       "      <th>4</th>\n",
       "      <td>Az3BCtL_KY</td>\n",
       "      <td>EAT IT OR WEAR IT CHALLENGE | Food Eating Chal...</td>\n",
       "      <td>Download Nostra Pro App A safe secret app to m...</td>\n",
       "      <td>Food</td>\n",
       "    </tr>\n",
       "  </tbody>\n",
       "</table>\n",
       "</div>"
      ],
      "text/plain": [
       "      Video id                                              Title  \\\n",
       "0  V2jk8PclZwg  LEVEL 9999 Street Food in Dhaka| Bangladesh - ...   \n",
       "1  4v9G2ArswUs  Food in Sri Lanka - 1.5 KG MONSTER Crab Curry ...   \n",
       "2  2ICpGbY5u5o  Ultimate Indian Street Food Breakfast In Kolka...   \n",
       "3   _LJ93UoFD6            UNDISCOVERED Madagascar Village Food!!!   \n",
       "4   Az3BCtL_KY  EAT IT OR WEAR IT CHALLENGE | Food Eating Chal...   \n",
       "\n",
       "                                         Description Category  \n",
       "0  Street Food in Bangladesh is AMAZING Check out...     Food  \n",
       "1  Best of Sri Lanka food tour with The Hungry To...     Food  \n",
       "2  Veggiepaaji will show you Ultimate Indian Stre...     Food  \n",
       "3  🎥STREET FOOD HEAVEN IN MADAGASCAR » https://yo...     Food  \n",
       "4  Download Nostra Pro App A safe secret app to m...     Food  "
      ]
     },
     "execution_count": 20,
     "metadata": {},
     "output_type": "execute_result"
    }
   ],
   "source": [
    "df_new.head()"
   ]
  },
  {
   "cell_type": "markdown",
   "metadata": {},
   "source": [
    "In the function below, I'll be left with only words that only have characters [a-z] in them. This will remove all the words with links, email adresses etc. in them."
   ]
  },
  {
   "cell_type": "code",
   "execution_count": 20,
   "metadata": {},
   "outputs": [
    {
     "name": "stderr",
     "output_type": "stream",
     "text": [
      "/Applications/anaconda3/lib/python3.6/site-packages/ipykernel_launcher.py:8: SettingWithCopyWarning: \n",
      "A value is trying to be set on a copy of a slice from a DataFrame.\n",
      "Try using .loc[row_indexer,col_indexer] = value instead\n",
      "\n",
      "See the caveats in the documentation: http://pandas.pydata.org/pandas-docs/stable/indexing.html#indexing-view-versus-copy\n",
      "  \n"
     ]
    }
   ],
   "source": [
    "def keepstring(text):\n",
    "    t = text.split(' ')\n",
    "    li = []\n",
    "    for word in t:\n",
    "        if (word.isalpha()):\n",
    "            li.append(word.lower())\n",
    "    return \" \".join(li)\n",
    "df_new['Description'] = df_new['Description'].apply(keepstring)"
   ]
  },
  {
   "cell_type": "code",
   "execution_count": 21,
   "metadata": {},
   "outputs": [
    {
     "name": "stderr",
     "output_type": "stream",
     "text": [
      "/Applications/anaconda3/lib/python3.6/site-packages/ipykernel_launcher.py:5: SettingWithCopyWarning: \n",
      "A value is trying to be set on a copy of a slice from a DataFrame.\n",
      "Try using .loc[row_indexer,col_indexer] = value instead\n",
      "\n",
      "See the caveats in the documentation: http://pandas.pydata.org/pandas-docs/stable/indexing.html#indexing-view-versus-copy\n",
      "  \"\"\"\n"
     ]
    }
   ],
   "source": [
    "def removestop(text):\n",
    "    t = text.split()\n",
    "    li = [word for word in t if word not in stop]\n",
    "    return \" \".join(li)\n",
    "df_new['Description'] = df_new['Description'].apply(removestop)"
   ]
  },
  {
   "cell_type": "code",
   "execution_count": 22,
   "metadata": {},
   "outputs": [
    {
     "data": {
      "text/html": [
       "<div>\n",
       "<style>\n",
       "    .dataframe thead tr:only-child th {\n",
       "        text-align: right;\n",
       "    }\n",
       "\n",
       "    .dataframe thead th {\n",
       "        text-align: left;\n",
       "    }\n",
       "\n",
       "    .dataframe tbody tr th {\n",
       "        vertical-align: top;\n",
       "    }\n",
       "</style>\n",
       "<table border=\"1\" class=\"dataframe\">\n",
       "  <thead>\n",
       "    <tr style=\"text-align: right;\">\n",
       "      <th></th>\n",
       "      <th>Video id</th>\n",
       "      <th>Title</th>\n",
       "      <th>Description</th>\n",
       "      <th>Category</th>\n",
       "    </tr>\n",
       "  </thead>\n",
       "  <tbody>\n",
       "    <tr>\n",
       "      <th>0</th>\n",
       "      <td>V2jk8PclZwg</td>\n",
       "      <td>LEVEL 9999 Street Food in Dhaka| Bangladesh - ...</td>\n",
       "      <td>street food bangladesh amazing check months fr...</td>\n",
       "      <td>Food</td>\n",
       "    </tr>\n",
       "    <tr>\n",
       "      <th>1</th>\n",
       "      <td>4v9G2ArswUs</td>\n",
       "      <td>Food in Sri Lanka - 1.5 KG MONSTER Crab Curry ...</td>\n",
       "      <td>best sri lanka food tour hungry new videos eve...</td>\n",
       "      <td>Food</td>\n",
       "    </tr>\n",
       "    <tr>\n",
       "      <th>2</th>\n",
       "      <td>2ICpGbY5u5o</td>\n",
       "      <td>Ultimate Indian Street Food Breakfast In Kolka...</td>\n",
       "      <td>veggiepaaji show ultimate indian street food b...</td>\n",
       "      <td>Food</td>\n",
       "    </tr>\n",
       "    <tr>\n",
       "      <th>3</th>\n",
       "      <td>_LJ93UoFD6</td>\n",
       "      <td>UNDISCOVERED Madagascar Village Food!!!</td>\n",
       "      <td>food heaven madagascar tour madagascar best ev...</td>\n",
       "      <td>Food</td>\n",
       "    </tr>\n",
       "    <tr>\n",
       "      <th>4</th>\n",
       "      <td>Az3BCtL_KY</td>\n",
       "      <td>EAT IT OR WEAR IT CHALLENGE | Food Eating Chal...</td>\n",
       "      <td>download nostra pro app safe secret app make m...</td>\n",
       "      <td>Food</td>\n",
       "    </tr>\n",
       "  </tbody>\n",
       "</table>\n",
       "</div>"
      ],
      "text/plain": [
       "      Video id                                              Title  \\\n",
       "0  V2jk8PclZwg  LEVEL 9999 Street Food in Dhaka| Bangladesh - ...   \n",
       "1  4v9G2ArswUs  Food in Sri Lanka - 1.5 KG MONSTER Crab Curry ...   \n",
       "2  2ICpGbY5u5o  Ultimate Indian Street Food Breakfast In Kolka...   \n",
       "3   _LJ93UoFD6            UNDISCOVERED Madagascar Village Food!!!   \n",
       "4   Az3BCtL_KY  EAT IT OR WEAR IT CHALLENGE | Food Eating Chal...   \n",
       "\n",
       "                                         Description Category  \n",
       "0  street food bangladesh amazing check months fr...     Food  \n",
       "1  best sri lanka food tour hungry new videos eve...     Food  \n",
       "2  veggiepaaji show ultimate indian street food b...     Food  \n",
       "3  food heaven madagascar tour madagascar best ev...     Food  \n",
       "4  download nostra pro app safe secret app make m...     Food  "
      ]
     },
     "execution_count": 22,
     "metadata": {},
     "output_type": "execute_result"
    }
   ],
   "source": [
    "df_new.head()"
   ]
  },
  {
   "cell_type": "code",
   "execution_count": 23,
   "metadata": {
    "collapsed": true
   },
   "outputs": [],
   "source": [
    "from sklearn.model_selection import train_test_split"
   ]
  },
  {
   "cell_type": "code",
   "execution_count": 24,
   "metadata": {
    "collapsed": true
   },
   "outputs": [],
   "source": [
    "x_train, x_test, y_train, y_test = train_test_split(df_new.iloc[:,0:3],df_new.iloc[:,3:4],random_state = 0)"
   ]
  },
  {
   "cell_type": "code",
   "execution_count": 25,
   "metadata": {},
   "outputs": [
    {
     "data": {
      "text/plain": [
       "(2161, 3)"
      ]
     },
     "execution_count": 25,
     "metadata": {},
     "output_type": "execute_result"
    }
   ],
   "source": [
    "x_test.shape"
   ]
  },
  {
   "cell_type": "markdown",
   "metadata": {},
   "source": [
    "Now every description has a variable length, hence I'll be using a vectorizer to transform the sentence into vector having words most used in the dataset which might indicate a good correspondance with the target variable"
   ]
  },
  {
   "cell_type": "code",
   "execution_count": 27,
   "metadata": {
    "collapsed": true
   },
   "outputs": [],
   "source": [
    "from sklearn.feature_extraction.text import TfidfVectorizer"
   ]
  },
  {
   "cell_type": "markdown",
   "metadata": {},
   "source": [
    "I am going to work with top 10000 words"
   ]
  },
  {
   "cell_type": "code",
   "execution_count": 28,
   "metadata": {
    "collapsed": true
   },
   "outputs": [],
   "source": [
    "v = TfidfVectorizer(max_features=10000)"
   ]
  },
  {
   "cell_type": "code",
   "execution_count": 29,
   "metadata": {
    "collapsed": true
   },
   "outputs": [],
   "source": [
    "train_features = v.fit_transform(x_train['Description'])"
   ]
  },
  {
   "cell_type": "code",
   "execution_count": 30,
   "metadata": {},
   "outputs": [
    {
     "data": {
      "text/plain": [
       "['aa',\n",
       " 'aaa',\n",
       " 'aaawwwartandartistescomfounded',\n",
       " 'aaj',\n",
       " 'aakar',\n",
       " 'aap',\n",
       " 'aapke',\n",
       " 'aapko',\n",
       " 'aaron',\n",
       " 'aarp',\n",
       " 'ab',\n",
       " 'abalone',\n",
       " 'abandoned',\n",
       " 'abb',\n",
       " 'abbey',\n",
       " 'abc',\n",
       " 'aber',\n",
       " 'abhishek',\n",
       " 'abilities',\n",
       " 'ability',\n",
       " 'able',\n",
       " 'aboard',\n",
       " 'aboriginal',\n",
       " 'aboutwe',\n",
       " 'abraham',\n",
       " 'abroad',\n",
       " 'absolute',\n",
       " 'absolutely',\n",
       " 'absorbed',\n",
       " 'abstract',\n",
       " 'abu',\n",
       " 'abundant',\n",
       " 'abuse',\n",
       " 'ac',\n",
       " 'academia',\n",
       " 'academic',\n",
       " 'academy',\n",
       " 'accelerate',\n",
       " 'accelerated',\n",
       " 'accelerator',\n",
       " 'accent',\n",
       " 'accept',\n",
       " 'accepted',\n",
       " 'accepting',\n",
       " 'access',\n",
       " 'accessed',\n",
       " 'accessibility',\n",
       " 'accessible',\n",
       " 'accessories',\n",
       " 'accidentally',\n",
       " 'acclaimed',\n",
       " 'accommodate',\n",
       " 'accommodation',\n",
       " 'accommodations',\n",
       " 'accompanied',\n",
       " 'accompaniment',\n",
       " 'accompanying',\n",
       " 'accomplishments',\n",
       " 'accordance',\n",
       " 'according',\n",
       " 'account',\n",
       " 'accounts',\n",
       " 'accredited',\n",
       " 'accuracy',\n",
       " 'accurate',\n",
       " 'ace',\n",
       " 'acer',\n",
       " 'ache',\n",
       " 'achieve',\n",
       " 'achieved',\n",
       " 'achievement',\n",
       " 'achievements',\n",
       " 'achieving',\n",
       " 'acid',\n",
       " 'acids',\n",
       " 'acoustic',\n",
       " 'acquire',\n",
       " 'acquired',\n",
       " 'acres',\n",
       " 'across',\n",
       " 'acrylic',\n",
       " 'act',\n",
       " 'acting',\n",
       " 'action',\n",
       " 'actions',\n",
       " 'activate',\n",
       " 'activated',\n",
       " 'activation',\n",
       " 'active',\n",
       " 'actively',\n",
       " 'activision',\n",
       " 'activities',\n",
       " 'activity',\n",
       " 'actor',\n",
       " 'actors',\n",
       " 'actress',\n",
       " 'acts',\n",
       " 'actual',\n",
       " 'actually',\n",
       " 'ad',\n",
       " 'ada',\n",
       " 'adalah',\n",
       " 'adam',\n",
       " 'adams',\n",
       " 'adapted',\n",
       " 'adapters',\n",
       " 'add',\n",
       " 'added',\n",
       " 'addedcanon',\n",
       " 'addicted',\n",
       " 'adding',\n",
       " 'addition',\n",
       " 'additional',\n",
       " 'additionally',\n",
       " 'additive',\n",
       " 'address',\n",
       " 'addressed',\n",
       " 'addresses',\n",
       " 'addressing',\n",
       " 'adds',\n",
       " 'adele',\n",
       " 'adhesive',\n",
       " 'adhesives',\n",
       " 'adjust',\n",
       " 'administered',\n",
       " 'administration',\n",
       " 'admiral',\n",
       " 'admission',\n",
       " 'admit',\n",
       " 'adobe',\n",
       " 'adolf',\n",
       " 'adopted',\n",
       " 'adopting',\n",
       " 'adoption',\n",
       " 'adorable',\n",
       " 'ads',\n",
       " 'adult',\n",
       " 'adults',\n",
       " 'advance',\n",
       " 'advanced',\n",
       " 'advancement',\n",
       " 'advancements',\n",
       " 'advances',\n",
       " 'advancing',\n",
       " 'advantage',\n",
       " 'advantages',\n",
       " 'adventure',\n",
       " 'adventures',\n",
       " 'adventurous',\n",
       " 'advertisements',\n",
       " 'advertising',\n",
       " 'advice',\n",
       " 'advise',\n",
       " 'advised',\n",
       " 'advisory',\n",
       " 'aerial',\n",
       " 'aero',\n",
       " 'aerospace',\n",
       " 'aesthetic',\n",
       " 'aesthetics',\n",
       " 'affair',\n",
       " 'affairs',\n",
       " 'affect',\n",
       " 'affected',\n",
       " 'affecting',\n",
       " 'affects',\n",
       " 'affiliate',\n",
       " 'affiliated',\n",
       " 'affiliates',\n",
       " 'afford',\n",
       " 'affordable',\n",
       " 'afghanistan',\n",
       " 'afraid',\n",
       " 'africa',\n",
       " 'african',\n",
       " 'afridi',\n",
       " 'aftermath',\n",
       " 'afternoon',\n",
       " 'ag',\n",
       " 'againi',\n",
       " 'agar',\n",
       " 'age',\n",
       " 'aged',\n",
       " 'agencies',\n",
       " 'agency',\n",
       " 'agenda',\n",
       " 'agent',\n",
       " 'agents',\n",
       " 'ages',\n",
       " 'aggressive',\n",
       " 'ago',\n",
       " 'agrahari',\n",
       " 'agree',\n",
       " 'agreement',\n",
       " 'agrees',\n",
       " 'agricultural',\n",
       " 'agriculture',\n",
       " 'agro',\n",
       " 'ahead',\n",
       " 'ai',\n",
       " 'aid',\n",
       " 'aids',\n",
       " 'aim',\n",
       " 'aims',\n",
       " 'aint',\n",
       " 'air',\n",
       " 'airbnb',\n",
       " 'airborne',\n",
       " 'airbus',\n",
       " 'aircraft',\n",
       " 'aired',\n",
       " 'airlines',\n",
       " 'airlineshaving',\n",
       " 'airplane',\n",
       " 'airport',\n",
       " 'aise',\n",
       " 'aj',\n",
       " 'aka',\n",
       " 'akm',\n",
       " 'al',\n",
       " 'alan',\n",
       " 'albania',\n",
       " 'albert',\n",
       " 'album',\n",
       " 'albums',\n",
       " 'alcohol',\n",
       " 'alejandro',\n",
       " 'alex',\n",
       " 'alexa',\n",
       " 'alexander',\n",
       " 'alexandria',\n",
       " 'alfred',\n",
       " 'ali',\n",
       " 'alice',\n",
       " 'alien',\n",
       " 'aliens',\n",
       " 'alike',\n",
       " 'alive',\n",
       " 'allen',\n",
       " 'alliance',\n",
       " 'alliances',\n",
       " 'allied',\n",
       " 'allies',\n",
       " 'allison',\n",
       " 'allow',\n",
       " 'allowance',\n",
       " 'allowed',\n",
       " 'allowing',\n",
       " 'allows',\n",
       " 'alloys',\n",
       " 'ally',\n",
       " 'almond',\n",
       " 'almost',\n",
       " 'alone',\n",
       " 'along',\n",
       " 'alongside',\n",
       " 'aloo',\n",
       " 'alp',\n",
       " 'alpha',\n",
       " 'already',\n",
       " 'alright',\n",
       " 'als',\n",
       " 'also',\n",
       " 'alter',\n",
       " 'altered',\n",
       " 'alternate',\n",
       " 'alternative',\n",
       " 'although',\n",
       " 'aluminium',\n",
       " 'aluminum',\n",
       " 'alumni',\n",
       " 'always',\n",
       " 'amateur',\n",
       " 'amazing',\n",
       " 'amazon',\n",
       " 'amazoncom',\n",
       " 'amazonde',\n",
       " 'ambient',\n",
       " 'amd',\n",
       " 'amendment',\n",
       " 'america',\n",
       " 'american',\n",
       " 'americans',\n",
       " 'americas',\n",
       " 'amir',\n",
       " 'amit',\n",
       " 'ammonia',\n",
       " 'ammunition',\n",
       " 'among',\n",
       " 'amongst',\n",
       " 'amount',\n",
       " 'amounts',\n",
       " 'amp',\n",
       " 'amy',\n",
       " 'analyse',\n",
       " 'analysis',\n",
       " 'analytics',\n",
       " 'analyze',\n",
       " 'analyzing',\n",
       " 'anansí',\n",
       " 'ancestors',\n",
       " 'anchor',\n",
       " 'ancient',\n",
       " 'anders',\n",
       " 'anderson',\n",
       " 'andhra',\n",
       " 'andre',\n",
       " 'andrea',\n",
       " 'andrew',\n",
       " 'android',\n",
       " 'andy',\n",
       " 'ane',\n",
       " 'ang',\n",
       " 'angel',\n",
       " 'angela',\n",
       " 'angeles',\n",
       " 'angels',\n",
       " 'anger',\n",
       " 'angle',\n",
       " 'angles',\n",
       " 'angry',\n",
       " 'anh',\n",
       " 'animal',\n",
       " 'animals',\n",
       " 'animated',\n",
       " 'animation',\n",
       " 'animations',\n",
       " 'anime',\n",
       " 'ann',\n",
       " 'anna',\n",
       " 'anne',\n",
       " 'annexed',\n",
       " 'anniversary',\n",
       " 'announce',\n",
       " 'announced',\n",
       " 'announcements',\n",
       " 'annu',\n",
       " 'annual',\n",
       " 'anonymous',\n",
       " 'another',\n",
       " 'answer',\n",
       " 'answered',\n",
       " 'answering',\n",
       " 'answers',\n",
       " 'antananarivo',\n",
       " 'antarctica',\n",
       " 'antenna',\n",
       " 'anthem',\n",
       " 'anthony',\n",
       " 'anti',\n",
       " 'anticipated',\n",
       " 'antics',\n",
       " 'antiques',\n",
       " 'anxiety',\n",
       " 'anymore',\n",
       " 'anyone',\n",
       " 'anything',\n",
       " 'anytime',\n",
       " 'anyway',\n",
       " 'anyways',\n",
       " 'anywhere',\n",
       " 'ap',\n",
       " 'apart',\n",
       " 'apartment',\n",
       " 'apex',\n",
       " 'apir',\n",
       " 'apko',\n",
       " 'apna',\n",
       " 'apne',\n",
       " 'apocalypse',\n",
       " 'apollo',\n",
       " 'app',\n",
       " 'apparel',\n",
       " 'appealing',\n",
       " 'appear',\n",
       " 'appearance',\n",
       " 'appeared',\n",
       " 'appears',\n",
       " 'appeltresearch',\n",
       " 'appetite',\n",
       " 'apple',\n",
       " 'appliances',\n",
       " 'applicable',\n",
       " 'application',\n",
       " 'applications',\n",
       " 'applied',\n",
       " 'apply',\n",
       " 'applying',\n",
       " 'appointment',\n",
       " 'appreciate',\n",
       " 'appreciated',\n",
       " 'appreciation',\n",
       " 'apprenticeship',\n",
       " 'approach',\n",
       " 'approaches',\n",
       " 'approaching',\n",
       " 'appropriate',\n",
       " 'approved',\n",
       " 'approximately',\n",
       " 'apps',\n",
       " 'appsc',\n",
       " 'appétit',\n",
       " 'april',\n",
       " 'apron',\n",
       " 'apt',\n",
       " 'aquarium',\n",
       " 'aquino',\n",
       " 'aquí',\n",
       " 'ar',\n",
       " 'arab',\n",
       " 'arabia',\n",
       " 'arabic',\n",
       " 'arc',\n",
       " 'arcade',\n",
       " 'archaeological',\n",
       " 'archduke',\n",
       " 'architectural',\n",
       " 'architecture',\n",
       " 'archival',\n",
       " 'archive',\n",
       " 'archives',\n",
       " 'arctic',\n",
       " 'area',\n",
       " 'areas',\n",
       " 'arena',\n",
       " 'arent',\n",
       " 'arguably',\n",
       " 'argue',\n",
       " 'argues',\n",
       " 'ariana',\n",
       " 'arithmetic',\n",
       " 'arizona',\n",
       " 'arjun',\n",
       " 'arkansas',\n",
       " 'arm',\n",
       " 'armed',\n",
       " 'armies',\n",
       " 'armistice',\n",
       " 'armor',\n",
       " 'armored',\n",
       " 'armoured',\n",
       " 'arms',\n",
       " 'army',\n",
       " 'arnel',\n",
       " 'arnhem',\n",
       " 'aroma',\n",
       " 'aromatic',\n",
       " 'around',\n",
       " 'arrange',\n",
       " 'arranged',\n",
       " 'arrangement',\n",
       " 'array',\n",
       " 'arrival',\n",
       " 'arrive',\n",
       " 'arrived',\n",
       " 'arriving',\n",
       " 'arsenal',\n",
       " 'arslan',\n",
       " 'art',\n",
       " 'arthur',\n",
       " 'article',\n",
       " 'articles',\n",
       " 'artifacts',\n",
       " 'artificial',\n",
       " 'artillery',\n",
       " 'artist',\n",
       " 'artistes',\n",
       " 'artisteslike',\n",
       " 'artistesstay',\n",
       " 'artistessubscribe',\n",
       " 'artistic',\n",
       " 'artists',\n",
       " 'artrageous',\n",
       " 'arts',\n",
       " 'artwork',\n",
       " 'arun',\n",
       " 'arundell',\n",
       " 'asakusa',\n",
       " 'ascorbic',\n",
       " 'ash',\n",
       " 'ashley',\n",
       " 'ashtyns',\n",
       " 'ashu',\n",
       " 'asia',\n",
       " 'asian',\n",
       " 'aside',\n",
       " 'ask',\n",
       " 'asked',\n",
       " 'asking',\n",
       " 'asks',\n",
       " 'asleep',\n",
       " 'asmr',\n",
       " 'asparagus',\n",
       " 'aspect',\n",
       " 'aspects',\n",
       " 'aspirants',\n",
       " 'aspiring',\n",
       " 'ass',\n",
       " 'assassination',\n",
       " 'assassins',\n",
       " 'assault',\n",
       " 'assemble',\n",
       " 'assembled',\n",
       " 'assembly',\n",
       " 'assess',\n",
       " 'assessment',\n",
       " 'asset',\n",
       " 'assets',\n",
       " 'assist',\n",
       " 'assistance',\n",
       " 'assistant',\n",
       " 'associate',\n",
       " 'associated',\n",
       " 'associates',\n",
       " 'association',\n",
       " 'assume',\n",
       " 'assumed',\n",
       " 'astral',\n",
       " 'astrid',\n",
       " 'astronauts',\n",
       " 'astronomy',\n",
       " 'asus',\n",
       " 'ate',\n",
       " 'ateez',\n",
       " 'athletes',\n",
       " 'atlanta',\n",
       " 'atlantic',\n",
       " 'atlas',\n",
       " 'atmosphere',\n",
       " 'atom',\n",
       " 'atomic',\n",
       " 'atop',\n",
       " 'atrocities',\n",
       " 'att',\n",
       " 'attach',\n",
       " 'attached',\n",
       " 'attack',\n",
       " 'attacked',\n",
       " 'attacking',\n",
       " 'attacks',\n",
       " 'attempt',\n",
       " 'attempted',\n",
       " 'attempting',\n",
       " 'attempts',\n",
       " 'attend',\n",
       " 'attendant',\n",
       " 'attended',\n",
       " 'attending',\n",
       " 'attention',\n",
       " 'attitude',\n",
       " 'attract',\n",
       " 'attraction',\n",
       " 'attractions',\n",
       " 'attribution',\n",
       " 'atul',\n",
       " 'au',\n",
       " 'aubrey',\n",
       " 'auch',\n",
       " 'auckland',\n",
       " 'audible',\n",
       " 'audience',\n",
       " 'audiences',\n",
       " 'audio',\n",
       " 'audionautix',\n",
       " 'audiophile',\n",
       " 'audios',\n",
       " 'audition',\n",
       " 'auditions',\n",
       " 'audrey',\n",
       " 'auf',\n",
       " 'aug',\n",
       " 'augmented',\n",
       " 'august',\n",
       " 'augusta',\n",
       " 'aunt',\n",
       " 'aur',\n",
       " 'aus',\n",
       " 'austin',\n",
       " 'australia',\n",
       " 'australian',\n",
       " 'austria',\n",
       " 'austrian',\n",
       " 'authentic',\n",
       " 'author',\n",
       " 'authority',\n",
       " 'authors',\n",
       " 'auto',\n",
       " 'autographed',\n",
       " 'automated',\n",
       " 'automatic',\n",
       " 'automatically',\n",
       " 'automation',\n",
       " 'automobile',\n",
       " 'automotive',\n",
       " 'autonomous',\n",
       " 'autor',\n",
       " 'autumn',\n",
       " 'av',\n",
       " 'ava',\n",
       " 'availability',\n",
       " 'available',\n",
       " 'ave',\n",
       " 'avec',\n",
       " 'avenue',\n",
       " 'average',\n",
       " 'avery',\n",
       " 'aviation',\n",
       " 'avocado',\n",
       " 'avoid',\n",
       " 'avon',\n",
       " 'awaited',\n",
       " 'awaiting',\n",
       " 'awake',\n",
       " 'awakening',\n",
       " 'award',\n",
       " 'awarded',\n",
       " 'awards',\n",
       " 'aware',\n",
       " 'awareness',\n",
       " 'away',\n",
       " 'awesome',\n",
       " 'axe',\n",
       " 'axis',\n",
       " 'axminster',\n",
       " 'azul',\n",
       " 'ba',\n",
       " 'baare',\n",
       " 'baat',\n",
       " 'baba',\n",
       " 'babies',\n",
       " 'baby',\n",
       " 'babyfirst',\n",
       " 'babygrande',\n",
       " 'babymetal',\n",
       " 'bach',\n",
       " 'bachelor',\n",
       " 'bachelors',\n",
       " 'back',\n",
       " 'backed',\n",
       " 'background',\n",
       " 'backgrounds',\n",
       " 'backing',\n",
       " 'backpack',\n",
       " 'backpacking',\n",
       " 'backpacks',\n",
       " 'backstage',\n",
       " 'backup',\n",
       " 'backwards',\n",
       " 'backyard',\n",
       " 'bacon',\n",
       " 'bad',\n",
       " 'badge',\n",
       " 'bag',\n",
       " 'baggage',\n",
       " 'bags',\n",
       " 'bahe',\n",
       " 'bahut',\n",
       " 'bailey',\n",
       " 'baja',\n",
       " 'bakar',\n",
       " 'bake',\n",
       " 'baked',\n",
       " 'baker',\n",
       " 'bakery',\n",
       " 'baking',\n",
       " 'baladas',\n",
       " 'balance',\n",
       " 'balanced',\n",
       " 'balancing',\n",
       " 'baldi',\n",
       " 'baldis',\n",
       " 'bali',\n",
       " 'balkan',\n",
       " 'balkans',\n",
       " 'ball',\n",
       " 'balloon',\n",
       " 'balloons',\n",
       " 'balls',\n",
       " 'balm',\n",
       " 'balvin',\n",
       " 'ban',\n",
       " 'banana',\n",
       " 'bananas',\n",
       " 'band',\n",
       " 'banda',\n",
       " 'bandish',\n",
       " 'bands',\n",
       " 'bang',\n",
       " 'bangkok',\n",
       " 'bangladesh',\n",
       " 'bangladeshi',\n",
       " 'bank',\n",
       " 'banking',\n",
       " 'banks',\n",
       " 'banned',\n",
       " 'banner',\n",
       " 'bar',\n",
       " 'barack',\n",
       " 'barbacoa',\n",
       " 'barbara',\n",
       " 'barbarossas',\n",
       " 'barber',\n",
       " 'barbie',\n",
       " 'barcelona',\n",
       " 'bare',\n",
       " 'barely',\n",
       " 'barlow',\n",
       " 'baron',\n",
       " 'barrier',\n",
       " 'barriers',\n",
       " 'barry',\n",
       " 'bars',\n",
       " 'base',\n",
       " 'based',\n",
       " 'bases',\n",
       " 'basic',\n",
       " 'basically',\n",
       " 'basics',\n",
       " 'basil',\n",
       " 'basilica',\n",
       " 'basis',\n",
       " 'basket',\n",
       " 'bass',\n",
       " 'bataya',\n",
       " 'batch',\n",
       " 'bath',\n",
       " 'bathroom',\n",
       " 'baths',\n",
       " 'battalion',\n",
       " 'batter',\n",
       " 'batteries',\n",
       " 'battery',\n",
       " 'battle',\n",
       " 'battlefield',\n",
       " 'battlefields',\n",
       " 'battles',\n",
       " 'battleships',\n",
       " 'bay',\n",
       " 'bazar',\n",
       " 'bbc',\n",
       " 'bbq',\n",
       " 'bc',\n",
       " 'beach',\n",
       " 'beaches',\n",
       " 'beads',\n",
       " 'beam',\n",
       " 'bean',\n",
       " 'beans',\n",
       " 'bear',\n",
       " 'beard',\n",
       " 'bears',\n",
       " 'beat',\n",
       " 'beatles',\n",
       " 'beats',\n",
       " 'beautiful',\n",
       " 'beauty',\n",
       " 'beber',\n",
       " 'became',\n",
       " 'bechtold',\n",
       " 'beck',\n",
       " 'become',\n",
       " 'becomes',\n",
       " 'becoming',\n",
       " 'bed',\n",
       " 'bedroom',\n",
       " 'beef',\n",
       " 'beer',\n",
       " 'beethoven',\n",
       " 'befree',\n",
       " 'began',\n",
       " 'begin',\n",
       " 'beginner',\n",
       " 'beginners',\n",
       " 'beginning',\n",
       " 'beginnings',\n",
       " 'begins',\n",
       " 'begun',\n",
       " 'behalf',\n",
       " 'behind',\n",
       " 'bei',\n",
       " 'beijing',\n",
       " 'beijings',\n",
       " 'beings',\n",
       " 'belgium',\n",
       " 'belief',\n",
       " 'beliefs',\n",
       " 'believe',\n",
       " 'believed',\n",
       " 'believes',\n",
       " 'believin',\n",
       " 'believing',\n",
       " 'believinhold',\n",
       " 'bell',\n",
       " 'bella',\n",
       " 'belligerents',\n",
       " 'belly',\n",
       " 'belong',\n",
       " 'belongs',\n",
       " 'beloved',\n",
       " 'belowalso',\n",
       " 'belowindia',\n",
       " 'belowsupport',\n",
       " 'belt',\n",
       " 'ben',\n",
       " 'bench',\n",
       " 'bend',\n",
       " 'bending',\n",
       " 'beneath',\n",
       " 'benefit',\n",
       " 'benefits',\n",
       " 'bengal',\n",
       " 'bengali',\n",
       " 'benjamin',\n",
       " 'bennett',\n",
       " 'benny',\n",
       " 'benson',\n",
       " 'bensound',\n",
       " 'bento',\n",
       " 'benz',\n",
       " 'bereitstellung',\n",
       " 'berlin',\n",
       " 'berries',\n",
       " 'berry',\n",
       " 'besan',\n",
       " 'beside',\n",
       " 'besides',\n",
       " 'best',\n",
       " 'bestselling',\n",
       " 'bestys',\n",
       " 'bet',\n",
       " 'beta',\n",
       " 'beth',\n",
       " 'better',\n",
       " 'beverage',\n",
       " 'beverages',\n",
       " 'beverly',\n",
       " 'beyond',\n",
       " 'bgm',\n",
       " 'bhairav',\n",
       " 'bhel',\n",
       " 'bhi',\n",
       " 'bhiwandi',\n",
       " 'bhiwandiindustrial',\n",
       " 'bhunesh',\n",
       " 'bicycle',\n",
       " 'bid',\n",
       " 'bieber',\n",
       " 'bien',\n",
       " 'big',\n",
       " 'bigger',\n",
       " 'biggest',\n",
       " 'biggie',\n",
       " 'bihag',\n",
       " 'bike',\n",
       " 'bilbo',\n",
       " 'bile',\n",
       " 'bill',\n",
       " 'billboard',\n",
       " 'billie',\n",
       " 'billion',\n",
       " 'billionaire',\n",
       " 'billions',\n",
       " 'billy',\n",
       " 'bin',\n",
       " 'binaural',\n",
       " 'binder',\n",
       " 'bing',\n",
       " 'bio',\n",
       " 'biographies',\n",
       " 'biography',\n",
       " 'biological',\n",
       " 'biology',\n",
       " 'biomedical',\n",
       " 'biotechnology',\n",
       " 'bir',\n",
       " 'bird',\n",
       " 'birds',\n",
       " 'birgit',\n",
       " 'birmingham',\n",
       " 'birth',\n",
       " 'birthday',\n",
       " 'biryani',\n",
       " 'bis',\n",
       " 'biscuit',\n",
       " 'biscuits',\n",
       " 'bit',\n",
       " 'bitch',\n",
       " 'bite',\n",
       " 'bites',\n",
       " 'bits',\n",
       " 'bitter',\n",
       " 'bizarre',\n",
       " 'bizet',\n",
       " 'black',\n",
       " 'blackberry',\n",
       " 'blackview',\n",
       " 'blade',\n",
       " 'blades',\n",
       " 'blah',\n",
       " 'blake',\n",
       " 'blame',\n",
       " 'blank',\n",
       " 'blanket',\n",
       " 'blast',\n",
       " 'blend',\n",
       " 'blender',\n",
       " 'blending',\n",
       " 'blends',\n",
       " 'bless',\n",
       " 'blessed',\n",
       " 'blind',\n",
       " 'bling',\n",
       " 'blitz',\n",
       " 'blitzkrieg',\n",
       " 'block',\n",
       " 'blockchain',\n",
       " 'blocked',\n",
       " 'blocks',\n",
       " 'blog',\n",
       " 'blogger',\n",
       " 'bloggers',\n",
       " 'blogging',\n",
       " 'blogs',\n",
       " 'blood',\n",
       " 'bloody',\n",
       " 'bloom',\n",
       " 'bloomberg',\n",
       " 'blossom',\n",
       " 'blow',\n",
       " 'blowing',\n",
       " 'blown',\n",
       " 'blows',\n",
       " 'blue',\n",
       " 'blueberries',\n",
       " 'blues',\n",
       " 'bluetooth',\n",
       " 'blumenschaum',\n",
       " 'blunt',\n",
       " 'blvd',\n",
       " 'bmg',\n",
       " 'bo',\n",
       " 'board',\n",
       " 'boarding',\n",
       " 'boards',\n",
       " 'boasts',\n",
       " 'boat',\n",
       " 'boats',\n",
       " 'bob',\n",
       " 'bodies',\n",
       " 'bodo',\n",
       " 'body',\n",
       " 'bodyoh',\n",
       " 'bohemian',\n",
       " 'boil',\n",
       " 'boiled',\n",
       " 'boiler',\n",
       " 'boiling',\n",
       " 'boire',\n",
       " 'bojan',\n",
       " 'bold',\n",
       " 'bollywood',\n",
       " 'bolt',\n",
       " 'bolts',\n",
       " 'bomb',\n",
       " 'bomba',\n",
       " 'bombardier',\n",
       " 'bombardment',\n",
       " 'bombay',\n",
       " 'bomber',\n",
       " 'bombers',\n",
       " 'bombing',\n",
       " 'bombings',\n",
       " 'bombs',\n",
       " 'bon',\n",
       " 'bond',\n",
       " 'bonding',\n",
       " 'bonds',\n",
       " 'bone',\n",
       " 'boneless',\n",
       " 'bones',\n",
       " 'bonus',\n",
       " 'boogie',\n",
       " 'book',\n",
       " 'booking',\n",
       " 'bookmark',\n",
       " 'books',\n",
       " 'boom',\n",
       " 'boombox',\n",
       " 'boomerang',\n",
       " 'boos',\n",
       " 'boost',\n",
       " 'boosted',\n",
       " 'booster',\n",
       " 'boosters',\n",
       " 'boosting',\n",
       " 'booth',\n",
       " 'booths',\n",
       " 'boots',\n",
       " 'booty',\n",
       " 'boracay',\n",
       " ...]"
      ]
     },
     "execution_count": 30,
     "metadata": {},
     "output_type": "execute_result"
    }
   ],
   "source": [
    "v.get_feature_names()"
   ]
  },
  {
   "cell_type": "code",
   "execution_count": 31,
   "metadata": {
    "collapsed": true
   },
   "outputs": [],
   "source": [
    "test_features = v.transform(x_test['Description'])"
   ]
  },
  {
   "cell_type": "code",
   "execution_count": 32,
   "metadata": {},
   "outputs": [
    {
     "data": {
      "text/plain": [
       "(2161, 10000)"
      ]
     },
     "execution_count": 32,
     "metadata": {},
     "output_type": "execute_result"
    }
   ],
   "source": [
    "test_features.shape"
   ]
  },
  {
   "cell_type": "markdown",
   "metadata": {},
   "source": [
    "## Category 1"
   ]
  },
  {
   "cell_type": "markdown",
   "metadata": {},
   "source": [
    "Logictic Regression, SVM, Naive Bayes"
   ]
  },
  {
   "cell_type": "code",
   "execution_count": 58,
   "metadata": {
    "collapsed": true
   },
   "outputs": [],
   "source": [
    "from sklearn.naive_bayes import MultinomialNB"
   ]
  },
  {
   "cell_type": "code",
   "execution_count": 82,
   "metadata": {},
   "outputs": [
    {
     "name": "stderr",
     "output_type": "stream",
     "text": [
      "/Applications/anaconda3/lib/python3.6/site-packages/sklearn/utils/validation.py:761: DataConversionWarning: A column-vector y was passed when a 1d array was expected. Please change the shape of y to (n_samples, ), for example using ravel().\n",
      "  y = column_or_1d(y, warn=True)\n"
     ]
    },
    {
     "data": {
      "text/plain": [
       "0.7987043035631652"
      ]
     },
     "execution_count": 82,
     "metadata": {},
     "output_type": "execute_result"
    }
   ],
   "source": [
    "multinomial = MultinomialNB()\n",
    "multinomial.fit(train_features, y_train)\n",
    "multinomial.score(test_features, y_test)"
   ]
  },
  {
   "cell_type": "code",
   "execution_count": 33,
   "metadata": {
    "collapsed": true
   },
   "outputs": [],
   "source": [
    "from sklearn.linear_model import LogisticRegression"
   ]
  },
  {
   "cell_type": "code",
   "execution_count": 34,
   "metadata": {},
   "outputs": [
    {
     "name": "stderr",
     "output_type": "stream",
     "text": [
      "/Applications/anaconda3/lib/python3.6/site-packages/sklearn/linear_model/logistic.py:433: FutureWarning: Default solver will be changed to 'lbfgs' in 0.22. Specify a solver to silence this warning.\n",
      "  FutureWarning)\n",
      "/Applications/anaconda3/lib/python3.6/site-packages/sklearn/utils/validation.py:761: DataConversionWarning: A column-vector y was passed when a 1d array was expected. Please change the shape of y to (n_samples, ), for example using ravel().\n",
      "  y = column_or_1d(y, warn=True)\n",
      "/Applications/anaconda3/lib/python3.6/site-packages/sklearn/linear_model/logistic.py:460: FutureWarning: Default multi_class will be changed to 'auto' in 0.22. Specify the multi_class option to silence this warning.\n",
      "  \"this warning.\", FutureWarning)\n"
     ]
    },
    {
     "data": {
      "text/plain": [
       "0.8380379453956501"
      ]
     },
     "execution_count": 34,
     "metadata": {},
     "output_type": "execute_result"
    }
   ],
   "source": [
    "logistic = LogisticRegression()\n",
    "logistic.fit(train_features, y_train)\n",
    "logistic.score(test_features, y_test)"
   ]
  },
  {
   "cell_type": "code",
   "execution_count": 85,
   "metadata": {
    "collapsed": true
   },
   "outputs": [],
   "source": [
    "from sklearn import svm"
   ]
  },
  {
   "cell_type": "code",
   "execution_count": 86,
   "metadata": {},
   "outputs": [
    {
     "name": "stderr",
     "output_type": "stream",
     "text": [
      "/Applications/anaconda3/lib/python3.6/site-packages/sklearn/utils/validation.py:761: DataConversionWarning: A column-vector y was passed when a 1d array was expected. Please change the shape of y to (n_samples, ), for example using ravel().\n",
      "  y = column_or_1d(y, warn=True)\n",
      "/Applications/anaconda3/lib/python3.6/site-packages/sklearn/svm/base.py:196: FutureWarning: The default value of gamma will change from 'auto' to 'scale' in version 0.22 to account better for unscaled features. Set gamma explicitly to 'auto' or 'scale' to avoid this warning.\n",
      "  \"avoid this warning.\", FutureWarning)\n"
     ]
    },
    {
     "data": {
      "text/plain": [
       "0.16566404442387783"
      ]
     },
     "execution_count": 86,
     "metadata": {},
     "output_type": "execute_result"
    }
   ],
   "source": [
    "sv = svm.SVC(kernel='rbf')\n",
    "sv.fit(train_features, y_train)\n",
    "sv.score(test_features, y_test)"
   ]
  },
  {
   "cell_type": "code",
   "execution_count": 87,
   "metadata": {},
   "outputs": [
    {
     "name": "stderr",
     "output_type": "stream",
     "text": [
      "/Applications/anaconda3/lib/python3.6/site-packages/sklearn/utils/validation.py:761: DataConversionWarning: A column-vector y was passed when a 1d array was expected. Please change the shape of y to (n_samples, ), for example using ravel().\n",
      "  y = column_or_1d(y, warn=True)\n"
     ]
    },
    {
     "data": {
      "text/plain": [
       "0.8218417399352151"
      ]
     },
     "execution_count": 87,
     "metadata": {},
     "output_type": "execute_result"
    }
   ],
   "source": [
    "sv = svm.SVC(kernel='linear')\n",
    "sv.fit(train_features, y_train)\n",
    "sv.score(test_features, y_test)"
   ]
  },
  {
   "cell_type": "markdown",
   "metadata": {},
   "source": [
    "## Category 2"
   ]
  },
  {
   "cell_type": "markdown",
   "metadata": {},
   "source": [
    "Bagging, Boosting, NN"
   ]
  },
  {
   "cell_type": "code",
   "execution_count": 91,
   "metadata": {
    "collapsed": true
   },
   "outputs": [],
   "source": [
    "from sklearn.ensemble import AdaBoostClassifier\n",
    "ada=AdaBoostClassifier(n_estimators=2000,learning_rate=0.1,random_state=0)"
   ]
  },
  {
   "cell_type": "code",
   "execution_count": 92,
   "metadata": {},
   "outputs": [
    {
     "name": "stderr",
     "output_type": "stream",
     "text": [
      "/Applications/anaconda3/lib/python3.6/site-packages/sklearn/utils/validation.py:761: DataConversionWarning: A column-vector y was passed when a 1d array was expected. Please change the shape of y to (n_samples, ), for example using ravel().\n",
      "  y = column_or_1d(y, warn=True)\n"
     ]
    },
    {
     "data": {
      "text/plain": [
       "0.7542804257288293"
      ]
     },
     "execution_count": 92,
     "metadata": {},
     "output_type": "execute_result"
    }
   ],
   "source": [
    "ada.fit(train_features, y_train)\n",
    "ada.score(test_features, y_test)"
   ]
  },
  {
   "cell_type": "code",
   "execution_count": 93,
   "metadata": {},
   "outputs": [
    {
     "name": "stderr",
     "output_type": "stream",
     "text": [
      "/Applications/anaconda3/lib/python3.6/site-packages/sklearn/utils/validation.py:761: DataConversionWarning: A column-vector y was passed when a 1d array was expected. Please change the shape of y to (n_samples, ), for example using ravel().\n",
      "  y = column_or_1d(y, warn=True)\n"
     ]
    },
    {
     "data": {
      "text/plain": [
       "0.8107357704766311"
      ]
     },
     "execution_count": 93,
     "metadata": {},
     "output_type": "execute_result"
    }
   ],
   "source": [
    "from sklearn.ensemble import GradientBoostingClassifier\n",
    "gradient=GradientBoostingClassifier(n_estimators=1000,random_state=0,learning_rate=0.1)\n",
    "gradient.fit(train_features, y_train)\n",
    "gradient.score(test_features, y_test)"
   ]
  },
  {
   "cell_type": "code",
   "execution_count": 35,
   "metadata": {},
   "outputs": [
    {
     "name": "stderr",
     "output_type": "stream",
     "text": [
      "/Applications/anaconda3/lib/python3.6/site-packages/ipykernel_launcher.py:3: DataConversionWarning: A column-vector y was passed when a 1d array was expected. Please change the shape of y to (n_samples,), for example using ravel().\n",
      "  This is separate from the ipykernel package so we can avoid doing imports until\n"
     ]
    },
    {
     "data": {
      "text/plain": [
       "0.8329477093937991"
      ]
     },
     "execution_count": 35,
     "metadata": {},
     "output_type": "execute_result"
    }
   ],
   "source": [
    "from sklearn.ensemble import RandomForestClassifier\n",
    "randomf=RandomForestClassifier(n_estimators=700,random_state=0)\n",
    "randomf.fit(train_features, y_train)\n",
    "randomf.score(test_features, y_test)"
   ]
  },
  {
   "cell_type": "markdown",
   "metadata": {},
   "source": [
    "## Category 3"
   ]
  },
  {
   "cell_type": "markdown",
   "metadata": {},
   "source": [
    "LSTM, CNN, RNN"
   ]
  },
  {
   "cell_type": "code",
   "execution_count": 116,
   "metadata": {
    "collapsed": true
   },
   "outputs": [],
   "source": [
    "from sklearn.preprocessing import LabelEncoder\n",
    "X = df_new.iloc[:,2]\n",
    "Y = df_new.Category\n",
    "le = LabelEncoder()\n",
    "Y = le.fit_transform(Y)"
   ]
  },
  {
   "cell_type": "code",
   "execution_count": 111,
   "metadata": {},
   "outputs": [
    {
     "data": {
      "text/plain": [
       "array([1, 1, 1, ..., 2, 2, 2])"
      ]
     },
     "execution_count": 111,
     "metadata": {},
     "output_type": "execute_result"
    }
   ],
   "source": [
    "Y"
   ]
  },
  {
   "cell_type": "code",
   "execution_count": 112,
   "metadata": {
    "collapsed": true
   },
   "outputs": [],
   "source": [
    "Y = Y.reshape(-1,1)"
   ]
  },
  {
   "cell_type": "code",
   "execution_count": 113,
   "metadata": {},
   "outputs": [
    {
     "data": {
      "text/plain": [
       "array([[1],\n",
       "       [1],\n",
       "       [1],\n",
       "       ...,\n",
       "       [2],\n",
       "       [2],\n",
       "       [2]])"
      ]
     },
     "execution_count": 113,
     "metadata": {},
     "output_type": "execute_result"
    }
   ],
   "source": [
    "Y"
   ]
  },
  {
   "cell_type": "code",
   "execution_count": 117,
   "metadata": {
    "collapsed": true
   },
   "outputs": [],
   "source": [
    "X_train,X_test,Y_train,Y_test = train_test_split(X,Y,random_state=0)"
   ]
  },
  {
   "cell_type": "code",
   "execution_count": 118,
   "metadata": {
    "collapsed": true
   },
   "outputs": [],
   "source": [
    "max_words = 1000\n",
    "max_len = 150\n",
    "tok = Tokenizer(num_words=max_words)\n",
    "tok.fit_on_texts(X_train)\n",
    "sequences = tok.texts_to_sequences(X_train)\n",
    "sequences_matrix = sequence.pad_sequences(sequences,maxlen=max_len)"
   ]
  },
  {
   "cell_type": "code",
   "execution_count": 134,
   "metadata": {
    "collapsed": true
   },
   "outputs": [],
   "source": [
    "def RNN():\n",
    "    inputs = Input(name='inputs',shape=[max_len])\n",
    "    layer = Embedding(max_words,50,input_length=max_len)(inputs)\n",
    "    layer = LSTM(64)(layer)\n",
    "    layer = Dense(256,name='FC1')(layer)\n",
    "    layer = Activation('relu')(layer)\n",
    "    layer = Dense(1,name='out_layer')(layer)\n",
    "    layer = Activation('sigmoid')(layer)\n",
    "    model = Model(inputs=inputs,outputs=layer)\n",
    "    return model"
   ]
  },
  {
   "cell_type": "code",
   "execution_count": 135,
   "metadata": {
    "collapsed": true
   },
   "outputs": [],
   "source": [
    "from keras.layers import LSTM, Activation, Dense, Dropout, Input, Embedding\n",
    "from keras.models import Model\n",
    "from keras.callbacks import EarlyStopping\n",
    "from keras.optimizers import RMSprop"
   ]
  },
  {
   "cell_type": "code",
   "execution_count": 136,
   "metadata": {},
   "outputs": [
    {
     "name": "stdout",
     "output_type": "stream",
     "text": [
      "_________________________________________________________________\n",
      "Layer (type)                 Output Shape              Param #   \n",
      "=================================================================\n",
      "inputs (InputLayer)          (None, 150)               0         \n",
      "_________________________________________________________________\n",
      "embedding_7 (Embedding)      (None, 150, 50)           50000     \n",
      "_________________________________________________________________\n",
      "lstm_5 (LSTM)                (None, 64)                29440     \n",
      "_________________________________________________________________\n",
      "FC1 (Dense)                  (None, 256)               16640     \n",
      "_________________________________________________________________\n",
      "activation_9 (Activation)    (None, 256)               0         \n",
      "_________________________________________________________________\n",
      "out_layer (Dense)            (None, 1)                 257       \n",
      "_________________________________________________________________\n",
      "activation_10 (Activation)   (None, 1)                 0         \n",
      "=================================================================\n",
      "Total params: 96,337\n",
      "Trainable params: 96,337\n",
      "Non-trainable params: 0\n",
      "_________________________________________________________________\n"
     ]
    }
   ],
   "source": [
    "model = RNN()\n",
    "model.summary()\n",
    "model.compile(loss='binary_crossentropy',optimizer=RMSprop(),metrics=['accuracy'])"
   ]
  },
  {
   "cell_type": "code",
   "execution_count": 137,
   "metadata": {},
   "outputs": [
    {
     "name": "stdout",
     "output_type": "stream",
     "text": [
      "Train on 5184 samples, validate on 1297 samples\n",
      "Epoch 1/10\n",
      "5184/5184 [==============================] - 11s 2ms/step - loss: -19.5354 - acc: 0.1715 - val_loss: -24.1164 - val_acc: 0.1611\n",
      "Epoch 2/10\n",
      "5184/5184 [==============================] - 11s 2ms/step - loss: -23.7014 - acc: 0.1715 - val_loss: -24.1164 - val_acc: 0.1611\n"
     ]
    },
    {
     "data": {
      "text/plain": [
       "<keras.callbacks.History at 0x1a40ff8710>"
      ]
     },
     "execution_count": 137,
     "metadata": {},
     "output_type": "execute_result"
    }
   ],
   "source": [
    "model.fit(sequences_matrix,Y_train,batch_size=128,epochs=10,\n",
    "          validation_split=0.2,callbacks=[EarlyStopping(monitor='val_loss',min_delta=0.0001)])"
   ]
  },
  {
   "cell_type": "markdown",
   "metadata": {},
   "source": [
    "## HyperParameter Tuning"
   ]
  },
  {
   "cell_type": "markdown",
   "metadata": {},
   "source": [
    "I will be tuning the hyperparameters for the two models of category 1 and 2 - Logistic regression and RandomForest"
   ]
  },
  {
   "cell_type": "code",
   "execution_count": 36,
   "metadata": {
    "collapsed": true
   },
   "outputs": [],
   "source": [
    "from sklearn.model_selection import GridSearchCV"
   ]
  },
  {
   "cell_type": "code",
   "execution_count": 38,
   "metadata": {},
   "outputs": [
    {
     "name": "stderr",
     "output_type": "stream",
     "text": [
      "/Applications/anaconda3/lib/python3.6/site-packages/sklearn/model_selection/_split.py:2053: FutureWarning: You should specify a value for 'cv' instead of relying on the default value. The default value will change from 3 to 5 in version 0.22.\n",
      "  warnings.warn(CV_WARNING, FutureWarning)\n",
      "[Parallel(n_jobs=1)]: Using backend SequentialBackend with 1 concurrent workers.\n",
      "/Applications/anaconda3/lib/python3.6/site-packages/sklearn/utils/validation.py:761: DataConversionWarning: A column-vector y was passed when a 1d array was expected. Please change the shape of y to (n_samples, ), for example using ravel().\n",
      "  y = column_or_1d(y, warn=True)\n",
      "/Applications/anaconda3/lib/python3.6/site-packages/sklearn/linear_model/logistic.py:460: FutureWarning: Default multi_class will be changed to 'auto' in 0.22. Specify the multi_class option to silence this warning.\n",
      "  \"this warning.\", FutureWarning)\n"
     ]
    },
    {
     "name": "stdout",
     "output_type": "stream",
     "text": [
      "Fitting 3 folds for each of 30 candidates, totalling 90 fits\n"
     ]
    },
    {
     "name": "stderr",
     "output_type": "stream",
     "text": [
      "/Applications/anaconda3/lib/python3.6/site-packages/sklearn/utils/validation.py:761: DataConversionWarning: A column-vector y was passed when a 1d array was expected. Please change the shape of y to (n_samples, ), for example using ravel().\n",
      "  y = column_or_1d(y, warn=True)\n",
      "/Applications/anaconda3/lib/python3.6/site-packages/sklearn/linear_model/logistic.py:460: FutureWarning: Default multi_class will be changed to 'auto' in 0.22. Specify the multi_class option to silence this warning.\n",
      "  \"this warning.\", FutureWarning)\n",
      "/Applications/anaconda3/lib/python3.6/site-packages/sklearn/utils/validation.py:761: DataConversionWarning: A column-vector y was passed when a 1d array was expected. Please change the shape of y to (n_samples, ), for example using ravel().\n",
      "  y = column_or_1d(y, warn=True)\n",
      "/Applications/anaconda3/lib/python3.6/site-packages/sklearn/linear_model/logistic.py:460: FutureWarning: Default multi_class will be changed to 'auto' in 0.22. Specify the multi_class option to silence this warning.\n",
      "  \"this warning.\", FutureWarning)\n",
      "/Applications/anaconda3/lib/python3.6/site-packages/sklearn/utils/validation.py:761: DataConversionWarning: A column-vector y was passed when a 1d array was expected. Please change the shape of y to (n_samples, ), for example using ravel().\n",
      "  y = column_or_1d(y, warn=True)\n",
      "/Applications/anaconda3/lib/python3.6/site-packages/sklearn/linear_model/logistic.py:460: FutureWarning: Default multi_class will be changed to 'auto' in 0.22. Specify the multi_class option to silence this warning.\n",
      "  \"this warning.\", FutureWarning)\n",
      "/Applications/anaconda3/lib/python3.6/site-packages/sklearn/utils/validation.py:761: DataConversionWarning: A column-vector y was passed when a 1d array was expected. Please change the shape of y to (n_samples, ), for example using ravel().\n",
      "  y = column_or_1d(y, warn=True)\n",
      "/Applications/anaconda3/lib/python3.6/site-packages/sklearn/linear_model/logistic.py:460: FutureWarning: Default multi_class will be changed to 'auto' in 0.22. Specify the multi_class option to silence this warning.\n",
      "  \"this warning.\", FutureWarning)\n",
      "/Applications/anaconda3/lib/python3.6/site-packages/sklearn/utils/validation.py:761: DataConversionWarning: A column-vector y was passed when a 1d array was expected. Please change the shape of y to (n_samples, ), for example using ravel().\n",
      "  y = column_or_1d(y, warn=True)\n",
      "/Applications/anaconda3/lib/python3.6/site-packages/sklearn/linear_model/logistic.py:460: FutureWarning: Default multi_class will be changed to 'auto' in 0.22. Specify the multi_class option to silence this warning.\n",
      "  \"this warning.\", FutureWarning)\n",
      "/Applications/anaconda3/lib/python3.6/site-packages/sklearn/utils/validation.py:761: DataConversionWarning: A column-vector y was passed when a 1d array was expected. Please change the shape of y to (n_samples, ), for example using ravel().\n",
      "  y = column_or_1d(y, warn=True)\n",
      "/Applications/anaconda3/lib/python3.6/site-packages/sklearn/linear_model/logistic.py:460: FutureWarning: Default multi_class will be changed to 'auto' in 0.22. Specify the multi_class option to silence this warning.\n",
      "  \"this warning.\", FutureWarning)\n",
      "/Applications/anaconda3/lib/python3.6/site-packages/sklearn/utils/validation.py:761: DataConversionWarning: A column-vector y was passed when a 1d array was expected. Please change the shape of y to (n_samples, ), for example using ravel().\n",
      "  y = column_or_1d(y, warn=True)\n",
      "/Applications/anaconda3/lib/python3.6/site-packages/sklearn/linear_model/logistic.py:460: FutureWarning: Default multi_class will be changed to 'auto' in 0.22. Specify the multi_class option to silence this warning.\n",
      "  \"this warning.\", FutureWarning)\n",
      "/Applications/anaconda3/lib/python3.6/site-packages/sklearn/utils/validation.py:761: DataConversionWarning: A column-vector y was passed when a 1d array was expected. Please change the shape of y to (n_samples, ), for example using ravel().\n",
      "  y = column_or_1d(y, warn=True)\n",
      "/Applications/anaconda3/lib/python3.6/site-packages/sklearn/linear_model/logistic.py:460: FutureWarning: Default multi_class will be changed to 'auto' in 0.22. Specify the multi_class option to silence this warning.\n",
      "  \"this warning.\", FutureWarning)\n",
      "/Applications/anaconda3/lib/python3.6/site-packages/sklearn/utils/validation.py:761: DataConversionWarning: A column-vector y was passed when a 1d array was expected. Please change the shape of y to (n_samples, ), for example using ravel().\n",
      "  y = column_or_1d(y, warn=True)\n",
      "/Applications/anaconda3/lib/python3.6/site-packages/sklearn/linear_model/logistic.py:460: FutureWarning: Default multi_class will be changed to 'auto' in 0.22. Specify the multi_class option to silence this warning.\n",
      "  \"this warning.\", FutureWarning)\n",
      "/Applications/anaconda3/lib/python3.6/site-packages/sklearn/utils/validation.py:761: DataConversionWarning: A column-vector y was passed when a 1d array was expected. Please change the shape of y to (n_samples, ), for example using ravel().\n",
      "  y = column_or_1d(y, warn=True)\n",
      "/Applications/anaconda3/lib/python3.6/site-packages/sklearn/linear_model/logistic.py:460: FutureWarning: Default multi_class will be changed to 'auto' in 0.22. Specify the multi_class option to silence this warning.\n",
      "  \"this warning.\", FutureWarning)\n",
      "/Applications/anaconda3/lib/python3.6/site-packages/sklearn/utils/validation.py:761: DataConversionWarning: A column-vector y was passed when a 1d array was expected. Please change the shape of y to (n_samples, ), for example using ravel().\n",
      "  y = column_or_1d(y, warn=True)\n",
      "/Applications/anaconda3/lib/python3.6/site-packages/sklearn/linear_model/logistic.py:460: FutureWarning: Default multi_class will be changed to 'auto' in 0.22. Specify the multi_class option to silence this warning.\n",
      "  \"this warning.\", FutureWarning)\n",
      "/Applications/anaconda3/lib/python3.6/site-packages/sklearn/utils/validation.py:761: DataConversionWarning: A column-vector y was passed when a 1d array was expected. Please change the shape of y to (n_samples, ), for example using ravel().\n",
      "  y = column_or_1d(y, warn=True)\n",
      "/Applications/anaconda3/lib/python3.6/site-packages/sklearn/linear_model/logistic.py:460: FutureWarning: Default multi_class will be changed to 'auto' in 0.22. Specify the multi_class option to silence this warning.\n",
      "  \"this warning.\", FutureWarning)\n",
      "/Applications/anaconda3/lib/python3.6/site-packages/sklearn/utils/validation.py:761: DataConversionWarning: A column-vector y was passed when a 1d array was expected. Please change the shape of y to (n_samples, ), for example using ravel().\n",
      "  y = column_or_1d(y, warn=True)\n",
      "/Applications/anaconda3/lib/python3.6/site-packages/sklearn/linear_model/logistic.py:460: FutureWarning: Default multi_class will be changed to 'auto' in 0.22. Specify the multi_class option to silence this warning.\n",
      "  \"this warning.\", FutureWarning)\n",
      "/Applications/anaconda3/lib/python3.6/site-packages/sklearn/utils/validation.py:761: DataConversionWarning: A column-vector y was passed when a 1d array was expected. Please change the shape of y to (n_samples, ), for example using ravel().\n",
      "  y = column_or_1d(y, warn=True)\n",
      "/Applications/anaconda3/lib/python3.6/site-packages/sklearn/linear_model/logistic.py:460: FutureWarning: Default multi_class will be changed to 'auto' in 0.22. Specify the multi_class option to silence this warning.\n",
      "  \"this warning.\", FutureWarning)\n",
      "/Applications/anaconda3/lib/python3.6/site-packages/sklearn/utils/validation.py:761: DataConversionWarning: A column-vector y was passed when a 1d array was expected. Please change the shape of y to (n_samples, ), for example using ravel().\n",
      "  y = column_or_1d(y, warn=True)\n",
      "/Applications/anaconda3/lib/python3.6/site-packages/sklearn/linear_model/logistic.py:460: FutureWarning: Default multi_class will be changed to 'auto' in 0.22. Specify the multi_class option to silence this warning.\n",
      "  \"this warning.\", FutureWarning)\n",
      "/Applications/anaconda3/lib/python3.6/site-packages/sklearn/utils/validation.py:761: DataConversionWarning: A column-vector y was passed when a 1d array was expected. Please change the shape of y to (n_samples, ), for example using ravel().\n",
      "  y = column_or_1d(y, warn=True)\n",
      "/Applications/anaconda3/lib/python3.6/site-packages/sklearn/linear_model/logistic.py:460: FutureWarning: Default multi_class will be changed to 'auto' in 0.22. Specify the multi_class option to silence this warning.\n",
      "  \"this warning.\", FutureWarning)\n"
     ]
    },
    {
     "name": "stderr",
     "output_type": "stream",
     "text": [
      "/Applications/anaconda3/lib/python3.6/site-packages/sklearn/utils/validation.py:761: DataConversionWarning: A column-vector y was passed when a 1d array was expected. Please change the shape of y to (n_samples, ), for example using ravel().\n",
      "  y = column_or_1d(y, warn=True)\n",
      "/Applications/anaconda3/lib/python3.6/site-packages/sklearn/linear_model/logistic.py:460: FutureWarning: Default multi_class will be changed to 'auto' in 0.22. Specify the multi_class option to silence this warning.\n",
      "  \"this warning.\", FutureWarning)\n",
      "/Applications/anaconda3/lib/python3.6/site-packages/sklearn/utils/validation.py:761: DataConversionWarning: A column-vector y was passed when a 1d array was expected. Please change the shape of y to (n_samples, ), for example using ravel().\n",
      "  y = column_or_1d(y, warn=True)\n",
      "/Applications/anaconda3/lib/python3.6/site-packages/sklearn/linear_model/logistic.py:460: FutureWarning: Default multi_class will be changed to 'auto' in 0.22. Specify the multi_class option to silence this warning.\n",
      "  \"this warning.\", FutureWarning)\n",
      "/Applications/anaconda3/lib/python3.6/site-packages/sklearn/utils/validation.py:761: DataConversionWarning: A column-vector y was passed when a 1d array was expected. Please change the shape of y to (n_samples, ), for example using ravel().\n",
      "  y = column_or_1d(y, warn=True)\n",
      "/Applications/anaconda3/lib/python3.6/site-packages/sklearn/linear_model/logistic.py:460: FutureWarning: Default multi_class will be changed to 'auto' in 0.22. Specify the multi_class option to silence this warning.\n",
      "  \"this warning.\", FutureWarning)\n",
      "/Applications/anaconda3/lib/python3.6/site-packages/sklearn/utils/validation.py:761: DataConversionWarning: A column-vector y was passed when a 1d array was expected. Please change the shape of y to (n_samples, ), for example using ravel().\n",
      "  y = column_or_1d(y, warn=True)\n",
      "/Applications/anaconda3/lib/python3.6/site-packages/sklearn/linear_model/logistic.py:460: FutureWarning: Default multi_class will be changed to 'auto' in 0.22. Specify the multi_class option to silence this warning.\n",
      "  \"this warning.\", FutureWarning)\n",
      "/Applications/anaconda3/lib/python3.6/site-packages/sklearn/utils/validation.py:761: DataConversionWarning: A column-vector y was passed when a 1d array was expected. Please change the shape of y to (n_samples, ), for example using ravel().\n",
      "  y = column_or_1d(y, warn=True)\n",
      "/Applications/anaconda3/lib/python3.6/site-packages/sklearn/linear_model/logistic.py:460: FutureWarning: Default multi_class will be changed to 'auto' in 0.22. Specify the multi_class option to silence this warning.\n",
      "  \"this warning.\", FutureWarning)\n",
      "/Applications/anaconda3/lib/python3.6/site-packages/sklearn/utils/validation.py:761: DataConversionWarning: A column-vector y was passed when a 1d array was expected. Please change the shape of y to (n_samples, ), for example using ravel().\n",
      "  y = column_or_1d(y, warn=True)\n",
      "/Applications/anaconda3/lib/python3.6/site-packages/sklearn/linear_model/logistic.py:460: FutureWarning: Default multi_class will be changed to 'auto' in 0.22. Specify the multi_class option to silence this warning.\n",
      "  \"this warning.\", FutureWarning)\n",
      "/Applications/anaconda3/lib/python3.6/site-packages/sklearn/utils/validation.py:761: DataConversionWarning: A column-vector y was passed when a 1d array was expected. Please change the shape of y to (n_samples, ), for example using ravel().\n",
      "  y = column_or_1d(y, warn=True)\n",
      "/Applications/anaconda3/lib/python3.6/site-packages/sklearn/linear_model/logistic.py:460: FutureWarning: Default multi_class will be changed to 'auto' in 0.22. Specify the multi_class option to silence this warning.\n",
      "  \"this warning.\", FutureWarning)\n",
      "/Applications/anaconda3/lib/python3.6/site-packages/sklearn/utils/validation.py:761: DataConversionWarning: A column-vector y was passed when a 1d array was expected. Please change the shape of y to (n_samples, ), for example using ravel().\n",
      "  y = column_or_1d(y, warn=True)\n",
      "/Applications/anaconda3/lib/python3.6/site-packages/sklearn/linear_model/logistic.py:460: FutureWarning: Default multi_class will be changed to 'auto' in 0.22. Specify the multi_class option to silence this warning.\n",
      "  \"this warning.\", FutureWarning)\n",
      "/Applications/anaconda3/lib/python3.6/site-packages/sklearn/utils/validation.py:761: DataConversionWarning: A column-vector y was passed when a 1d array was expected. Please change the shape of y to (n_samples, ), for example using ravel().\n",
      "  y = column_or_1d(y, warn=True)\n",
      "/Applications/anaconda3/lib/python3.6/site-packages/sklearn/linear_model/logistic.py:460: FutureWarning: Default multi_class will be changed to 'auto' in 0.22. Specify the multi_class option to silence this warning.\n",
      "  \"this warning.\", FutureWarning)\n",
      "/Applications/anaconda3/lib/python3.6/site-packages/sklearn/utils/validation.py:761: DataConversionWarning: A column-vector y was passed when a 1d array was expected. Please change the shape of y to (n_samples, ), for example using ravel().\n",
      "  y = column_or_1d(y, warn=True)\n",
      "/Applications/anaconda3/lib/python3.6/site-packages/sklearn/linear_model/logistic.py:460: FutureWarning: Default multi_class will be changed to 'auto' in 0.22. Specify the multi_class option to silence this warning.\n",
      "  \"this warning.\", FutureWarning)\n",
      "/Applications/anaconda3/lib/python3.6/site-packages/sklearn/utils/validation.py:761: DataConversionWarning: A column-vector y was passed when a 1d array was expected. Please change the shape of y to (n_samples, ), for example using ravel().\n",
      "  y = column_or_1d(y, warn=True)\n",
      "/Applications/anaconda3/lib/python3.6/site-packages/sklearn/linear_model/logistic.py:460: FutureWarning: Default multi_class will be changed to 'auto' in 0.22. Specify the multi_class option to silence this warning.\n",
      "  \"this warning.\", FutureWarning)\n",
      "/Applications/anaconda3/lib/python3.6/site-packages/sklearn/utils/validation.py:761: DataConversionWarning: A column-vector y was passed when a 1d array was expected. Please change the shape of y to (n_samples, ), for example using ravel().\n",
      "  y = column_or_1d(y, warn=True)\n",
      "/Applications/anaconda3/lib/python3.6/site-packages/sklearn/linear_model/logistic.py:460: FutureWarning: Default multi_class will be changed to 'auto' in 0.22. Specify the multi_class option to silence this warning.\n",
      "  \"this warning.\", FutureWarning)\n",
      "/Applications/anaconda3/lib/python3.6/site-packages/sklearn/utils/validation.py:761: DataConversionWarning: A column-vector y was passed when a 1d array was expected. Please change the shape of y to (n_samples, ), for example using ravel().\n",
      "  y = column_or_1d(y, warn=True)\n",
      "/Applications/anaconda3/lib/python3.6/site-packages/sklearn/linear_model/logistic.py:460: FutureWarning: Default multi_class will be changed to 'auto' in 0.22. Specify the multi_class option to silence this warning.\n",
      "  \"this warning.\", FutureWarning)\n",
      "/Applications/anaconda3/lib/python3.6/site-packages/sklearn/utils/validation.py:761: DataConversionWarning: A column-vector y was passed when a 1d array was expected. Please change the shape of y to (n_samples, ), for example using ravel().\n",
      "  y = column_or_1d(y, warn=True)\n",
      "/Applications/anaconda3/lib/python3.6/site-packages/sklearn/linear_model/logistic.py:460: FutureWarning: Default multi_class will be changed to 'auto' in 0.22. Specify the multi_class option to silence this warning.\n",
      "  \"this warning.\", FutureWarning)\n",
      "/Applications/anaconda3/lib/python3.6/site-packages/sklearn/utils/validation.py:761: DataConversionWarning: A column-vector y was passed when a 1d array was expected. Please change the shape of y to (n_samples, ), for example using ravel().\n",
      "  y = column_or_1d(y, warn=True)\n",
      "/Applications/anaconda3/lib/python3.6/site-packages/sklearn/linear_model/logistic.py:460: FutureWarning: Default multi_class will be changed to 'auto' in 0.22. Specify the multi_class option to silence this warning.\n",
      "  \"this warning.\", FutureWarning)\n",
      "/Applications/anaconda3/lib/python3.6/site-packages/sklearn/utils/validation.py:761: DataConversionWarning: A column-vector y was passed when a 1d array was expected. Please change the shape of y to (n_samples, ), for example using ravel().\n",
      "  y = column_or_1d(y, warn=True)\n",
      "/Applications/anaconda3/lib/python3.6/site-packages/sklearn/linear_model/logistic.py:460: FutureWarning: Default multi_class will be changed to 'auto' in 0.22. Specify the multi_class option to silence this warning.\n",
      "  \"this warning.\", FutureWarning)\n"
     ]
    },
    {
     "name": "stderr",
     "output_type": "stream",
     "text": [
      "/Applications/anaconda3/lib/python3.6/site-packages/sklearn/utils/validation.py:761: DataConversionWarning: A column-vector y was passed when a 1d array was expected. Please change the shape of y to (n_samples, ), for example using ravel().\n",
      "  y = column_or_1d(y, warn=True)\n",
      "/Applications/anaconda3/lib/python3.6/site-packages/sklearn/linear_model/logistic.py:460: FutureWarning: Default multi_class will be changed to 'auto' in 0.22. Specify the multi_class option to silence this warning.\n",
      "  \"this warning.\", FutureWarning)\n",
      "/Applications/anaconda3/lib/python3.6/site-packages/sklearn/utils/validation.py:761: DataConversionWarning: A column-vector y was passed when a 1d array was expected. Please change the shape of y to (n_samples, ), for example using ravel().\n",
      "  y = column_or_1d(y, warn=True)\n",
      "/Applications/anaconda3/lib/python3.6/site-packages/sklearn/linear_model/logistic.py:460: FutureWarning: Default multi_class will be changed to 'auto' in 0.22. Specify the multi_class option to silence this warning.\n",
      "  \"this warning.\", FutureWarning)\n",
      "/Applications/anaconda3/lib/python3.6/site-packages/sklearn/utils/validation.py:761: DataConversionWarning: A column-vector y was passed when a 1d array was expected. Please change the shape of y to (n_samples, ), for example using ravel().\n",
      "  y = column_or_1d(y, warn=True)\n",
      "/Applications/anaconda3/lib/python3.6/site-packages/sklearn/linear_model/logistic.py:460: FutureWarning: Default multi_class will be changed to 'auto' in 0.22. Specify the multi_class option to silence this warning.\n",
      "  \"this warning.\", FutureWarning)\n",
      "/Applications/anaconda3/lib/python3.6/site-packages/sklearn/utils/validation.py:761: DataConversionWarning: A column-vector y was passed when a 1d array was expected. Please change the shape of y to (n_samples, ), for example using ravel().\n",
      "  y = column_or_1d(y, warn=True)\n",
      "/Applications/anaconda3/lib/python3.6/site-packages/sklearn/linear_model/logistic.py:460: FutureWarning: Default multi_class will be changed to 'auto' in 0.22. Specify the multi_class option to silence this warning.\n",
      "  \"this warning.\", FutureWarning)\n",
      "[Parallel(n_jobs=1)]: Done  90 out of  90 | elapsed:   53.7s finished\n"
     ]
    },
    {
     "name": "stdout",
     "output_type": "stream",
     "text": [
      "0.8319703749421385\n",
      "LogisticRegression(C=1, class_weight=None, dual=False, fit_intercept=True,\n",
      "          intercept_scaling=1, max_iter=100, multi_class='warn',\n",
      "          n_jobs=None, penalty='l2', random_state=None, solver='saga',\n",
      "          tol=0.0001, verbose=0, warm_start=False)\n"
     ]
    }
   ],
   "source": [
    "c=[0.1,0.2,0.5,1,5,10]\n",
    "solver = ['newton-cg', 'lbfgs', 'liblinear', 'sag', 'saga']\n",
    "hyper={'C':c,'solver':solver}\n",
    "gd=GridSearchCV(estimator=LogisticRegression(),param_grid=hyper,verbose=True)\n",
    "gd.fit(train_features, y_train)\n",
    "print(gd.best_score_)\n",
    "print(gd.best_estimator_)"
   ]
  },
  {
   "cell_type": "code",
   "execution_count": 37,
   "metadata": {},
   "outputs": [
    {
     "name": "stderr",
     "output_type": "stream",
     "text": [
      "/Applications/anaconda3/lib/python3.6/site-packages/sklearn/model_selection/_split.py:2053: FutureWarning: You should specify a value for 'cv' instead of relying on the default value. The default value will change from 3 to 5 in version 0.22.\n",
      "  warnings.warn(CV_WARNING, FutureWarning)\n",
      "[Parallel(n_jobs=1)]: Using backend SequentialBackend with 1 concurrent workers.\n",
      "/Applications/anaconda3/lib/python3.6/site-packages/sklearn/model_selection/_validation.py:528: DataConversionWarning: A column-vector y was passed when a 1d array was expected. Please change the shape of y to (n_samples,), for example using ravel().\n",
      "  estimator.fit(X_train, y_train, **fit_params)\n"
     ]
    },
    {
     "name": "stdout",
     "output_type": "stream",
     "text": [
      "Fitting 3 folds for each of 9 candidates, totalling 27 fits\n"
     ]
    },
    {
     "name": "stderr",
     "output_type": "stream",
     "text": [
      "/Applications/anaconda3/lib/python3.6/site-packages/sklearn/model_selection/_validation.py:528: DataConversionWarning: A column-vector y was passed when a 1d array was expected. Please change the shape of y to (n_samples,), for example using ravel().\n",
      "  estimator.fit(X_train, y_train, **fit_params)\n",
      "/Applications/anaconda3/lib/python3.6/site-packages/sklearn/model_selection/_validation.py:528: DataConversionWarning: A column-vector y was passed when a 1d array was expected. Please change the shape of y to (n_samples,), for example using ravel().\n",
      "  estimator.fit(X_train, y_train, **fit_params)\n",
      "/Applications/anaconda3/lib/python3.6/site-packages/sklearn/model_selection/_validation.py:528: DataConversionWarning: A column-vector y was passed when a 1d array was expected. Please change the shape of y to (n_samples,), for example using ravel().\n",
      "  estimator.fit(X_train, y_train, **fit_params)\n",
      "/Applications/anaconda3/lib/python3.6/site-packages/sklearn/model_selection/_validation.py:528: DataConversionWarning: A column-vector y was passed when a 1d array was expected. Please change the shape of y to (n_samples,), for example using ravel().\n",
      "  estimator.fit(X_train, y_train, **fit_params)\n",
      "/Applications/anaconda3/lib/python3.6/site-packages/sklearn/model_selection/_validation.py:528: DataConversionWarning: A column-vector y was passed when a 1d array was expected. Please change the shape of y to (n_samples,), for example using ravel().\n",
      "  estimator.fit(X_train, y_train, **fit_params)\n",
      "/Applications/anaconda3/lib/python3.6/site-packages/sklearn/model_selection/_validation.py:528: DataConversionWarning: A column-vector y was passed when a 1d array was expected. Please change the shape of y to (n_samples,), for example using ravel().\n",
      "  estimator.fit(X_train, y_train, **fit_params)\n",
      "/Applications/anaconda3/lib/python3.6/site-packages/sklearn/model_selection/_validation.py:528: DataConversionWarning: A column-vector y was passed when a 1d array was expected. Please change the shape of y to (n_samples,), for example using ravel().\n",
      "  estimator.fit(X_train, y_train, **fit_params)\n",
      "/Applications/anaconda3/lib/python3.6/site-packages/sklearn/model_selection/_validation.py:528: DataConversionWarning: A column-vector y was passed when a 1d array was expected. Please change the shape of y to (n_samples,), for example using ravel().\n",
      "  estimator.fit(X_train, y_train, **fit_params)\n",
      "/Applications/anaconda3/lib/python3.6/site-packages/sklearn/model_selection/_validation.py:528: DataConversionWarning: A column-vector y was passed when a 1d array was expected. Please change the shape of y to (n_samples,), for example using ravel().\n",
      "  estimator.fit(X_train, y_train, **fit_params)\n",
      "/Applications/anaconda3/lib/python3.6/site-packages/sklearn/model_selection/_validation.py:528: DataConversionWarning: A column-vector y was passed when a 1d array was expected. Please change the shape of y to (n_samples,), for example using ravel().\n",
      "  estimator.fit(X_train, y_train, **fit_params)\n",
      "/Applications/anaconda3/lib/python3.6/site-packages/sklearn/model_selection/_validation.py:528: DataConversionWarning: A column-vector y was passed when a 1d array was expected. Please change the shape of y to (n_samples,), for example using ravel().\n",
      "  estimator.fit(X_train, y_train, **fit_params)\n",
      "/Applications/anaconda3/lib/python3.6/site-packages/sklearn/model_selection/_validation.py:528: DataConversionWarning: A column-vector y was passed when a 1d array was expected. Please change the shape of y to (n_samples,), for example using ravel().\n",
      "  estimator.fit(X_train, y_train, **fit_params)\n",
      "/Applications/anaconda3/lib/python3.6/site-packages/sklearn/model_selection/_validation.py:528: DataConversionWarning: A column-vector y was passed when a 1d array was expected. Please change the shape of y to (n_samples,), for example using ravel().\n",
      "  estimator.fit(X_train, y_train, **fit_params)\n",
      "/Applications/anaconda3/lib/python3.6/site-packages/sklearn/model_selection/_validation.py:528: DataConversionWarning: A column-vector y was passed when a 1d array was expected. Please change the shape of y to (n_samples,), for example using ravel().\n",
      "  estimator.fit(X_train, y_train, **fit_params)\n",
      "/Applications/anaconda3/lib/python3.6/site-packages/sklearn/model_selection/_validation.py:528: DataConversionWarning: A column-vector y was passed when a 1d array was expected. Please change the shape of y to (n_samples,), for example using ravel().\n",
      "  estimator.fit(X_train, y_train, **fit_params)\n",
      "/Applications/anaconda3/lib/python3.6/site-packages/sklearn/model_selection/_validation.py:528: DataConversionWarning: A column-vector y was passed when a 1d array was expected. Please change the shape of y to (n_samples,), for example using ravel().\n",
      "  estimator.fit(X_train, y_train, **fit_params)\n",
      "/Applications/anaconda3/lib/python3.6/site-packages/sklearn/model_selection/_validation.py:528: DataConversionWarning: A column-vector y was passed when a 1d array was expected. Please change the shape of y to (n_samples,), for example using ravel().\n",
      "  estimator.fit(X_train, y_train, **fit_params)\n",
      "/Applications/anaconda3/lib/python3.6/site-packages/sklearn/model_selection/_validation.py:528: DataConversionWarning: A column-vector y was passed when a 1d array was expected. Please change the shape of y to (n_samples,), for example using ravel().\n",
      "  estimator.fit(X_train, y_train, **fit_params)\n",
      "/Applications/anaconda3/lib/python3.6/site-packages/sklearn/model_selection/_validation.py:528: DataConversionWarning: A column-vector y was passed when a 1d array was expected. Please change the shape of y to (n_samples,), for example using ravel().\n",
      "  estimator.fit(X_train, y_train, **fit_params)\n",
      "/Applications/anaconda3/lib/python3.6/site-packages/sklearn/model_selection/_validation.py:528: DataConversionWarning: A column-vector y was passed when a 1d array was expected. Please change the shape of y to (n_samples,), for example using ravel().\n",
      "  estimator.fit(X_train, y_train, **fit_params)\n",
      "/Applications/anaconda3/lib/python3.6/site-packages/sklearn/model_selection/_validation.py:528: DataConversionWarning: A column-vector y was passed when a 1d array was expected. Please change the shape of y to (n_samples,), for example using ravel().\n",
      "  estimator.fit(X_train, y_train, **fit_params)\n",
      "/Applications/anaconda3/lib/python3.6/site-packages/sklearn/model_selection/_validation.py:528: DataConversionWarning: A column-vector y was passed when a 1d array was expected. Please change the shape of y to (n_samples,), for example using ravel().\n",
      "  estimator.fit(X_train, y_train, **fit_params)\n",
      "/Applications/anaconda3/lib/python3.6/site-packages/sklearn/model_selection/_validation.py:528: DataConversionWarning: A column-vector y was passed when a 1d array was expected. Please change the shape of y to (n_samples,), for example using ravel().\n",
      "  estimator.fit(X_train, y_train, **fit_params)\n",
      "/Applications/anaconda3/lib/python3.6/site-packages/sklearn/model_selection/_validation.py:528: DataConversionWarning: A column-vector y was passed when a 1d array was expected. Please change the shape of y to (n_samples,), for example using ravel().\n",
      "  estimator.fit(X_train, y_train, **fit_params)\n",
      "/Applications/anaconda3/lib/python3.6/site-packages/sklearn/model_selection/_validation.py:528: DataConversionWarning: A column-vector y was passed when a 1d array was expected. Please change the shape of y to (n_samples,), for example using ravel().\n",
      "  estimator.fit(X_train, y_train, **fit_params)\n",
      "/Applications/anaconda3/lib/python3.6/site-packages/sklearn/model_selection/_validation.py:528: DataConversionWarning: A column-vector y was passed when a 1d array was expected. Please change the shape of y to (n_samples,), for example using ravel().\n",
      "  estimator.fit(X_train, y_train, **fit_params)\n",
      "[Parallel(n_jobs=1)]: Done  27 out of  27 | elapsed: 13.3min finished\n",
      "/Applications/anaconda3/lib/python3.6/site-packages/sklearn/model_selection/_search.py:740: DataConversionWarning: A column-vector y was passed when a 1d array was expected. Please change the shape of y to (n_samples,), for example using ravel().\n",
      "  self.best_estimator_.fit(X, y, **fit_params)\n"
     ]
    },
    {
     "name": "stdout",
     "output_type": "stream",
     "text": [
      "0.827032865298565\n",
      "RandomForestClassifier(bootstrap=True, class_weight=None, criterion='gini',\n",
      "            max_depth=None, max_features='auto', max_leaf_nodes=None,\n",
      "            min_impurity_decrease=0.0, min_impurity_split=None,\n",
      "            min_samples_leaf=1, min_samples_split=2,\n",
      "            min_weight_fraction_leaf=0.0, n_estimators=400, n_jobs=None,\n",
      "            oob_score=False, random_state=0, verbose=0, warm_start=False)\n"
     ]
    }
   ],
   "source": [
    "n_estimators=range(100,1000,100)\n",
    "hyper={'n_estimators':n_estimators}\n",
    "gd=GridSearchCV(estimator=RandomForestClassifier(random_state=0),param_grid=hyper,verbose=True)\n",
    "gd.fit(train_features, y_train)\n",
    "print(gd.best_score_)\n",
    "print(gd.best_estimator_)"
   ]
  },
  {
   "cell_type": "code",
   "execution_count": 41,
   "metadata": {},
   "outputs": [
    {
     "name": "stderr",
     "output_type": "stream",
     "text": [
      "/Applications/anaconda3/lib/python3.6/site-packages/sklearn/utils/validation.py:761: DataConversionWarning: A column-vector y was passed when a 1d array was expected. Please change the shape of y to (n_samples, ), for example using ravel().\n",
      "  y = column_or_1d(y, warn=True)\n",
      "/Applications/anaconda3/lib/python3.6/site-packages/sklearn/linear_model/logistic.py:460: FutureWarning: Default multi_class will be changed to 'auto' in 0.22. Specify the multi_class option to silence this warning.\n",
      "  \"this warning.\", FutureWarning)\n"
     ]
    },
    {
     "name": "stdout",
     "output_type": "stream",
     "text": [
      "Logistic Regression tuned score : 0.8380379453956501\n"
     ]
    },
    {
     "name": "stderr",
     "output_type": "stream",
     "text": [
      "/Applications/anaconda3/lib/python3.6/site-packages/ipykernel_launcher.py:6: DataConversionWarning: A column-vector y was passed when a 1d array was expected. Please change the shape of y to (n_samples,), for example using ravel().\n",
      "  \n"
     ]
    },
    {
     "name": "stdout",
     "output_type": "stream",
     "text": [
      "Random Forest tuned score : 0.8320222119389171\n"
     ]
    }
   ],
   "source": [
    "logistic = LogisticRegression(C=1,solver='saga')\n",
    "logistic.fit(train_features, y_train)\n",
    "print('Logistic Regression tuned score :',logistic.score(test_features, y_test))\n",
    "from sklearn.ensemble import RandomForestClassifier\n",
    "randomf=RandomForestClassifier(n_estimators=400,random_state=0)\n",
    "randomf.fit(train_features, y_train)\n",
    "print('Random Forest tuned score :',randomf.score(test_features, y_test))"
   ]
  },
  {
   "cell_type": "markdown",
   "metadata": {},
   "source": [
    "## Precision, Recall And F1 score"
   ]
  },
  {
   "cell_type": "code",
   "execution_count": 42,
   "metadata": {
    "collapsed": true
   },
   "outputs": [],
   "source": [
    "import seaborn as sns\n",
    "import matplotlib.pyplot as plt"
   ]
  },
  {
   "cell_type": "code",
   "execution_count": 43,
   "metadata": {
    "collapsed": true
   },
   "outputs": [],
   "source": [
    "log_y = logistic.predict(test_features)\n",
    "rand_y = randomf.predict(test_features)"
   ]
  },
  {
   "cell_type": "code",
   "execution_count": 44,
   "metadata": {
    "collapsed": true
   },
   "outputs": [],
   "source": [
    "from sklearn.metrics import confusion_matrix,classification_report"
   ]
  },
  {
   "cell_type": "code",
   "execution_count": 45,
   "metadata": {
    "collapsed": true
   },
   "outputs": [],
   "source": [
    "%matplotlib inline"
   ]
  },
  {
   "cell_type": "code",
   "execution_count": 46,
   "metadata": {},
   "outputs": [
    {
     "data": {
      "image/png": "[encoded data removed]",
      "text/plain": [
       "<matplotlib.figure.Figure at 0x1a1bec4ef0>"
      ]
     },
     "metadata": {},
     "output_type": "display_data"
    }
   ],
   "source": [
    "sns.heatmap(confusion_matrix(y_test,log_y),annot=True)\n",
    "plt.title('Logistic Regression Confusion Matrix')\n",
    "f = plt.gcf()\n",
    "f.set_size_inches(10,8)"
   ]
  },
  {
   "cell_type": "code",
   "execution_count": 47,
   "metadata": {},
   "outputs": [
    {
     "data": {
      "image/png": "[encoded data removed]",
      "text/plain": [
       "<matplotlib.figure.Figure at 0x1a1ded7358>"
      ]
     },
     "metadata": {},
     "output_type": "display_data"
    }
   ],
   "source": [
    "sns.heatmap(confusion_matrix(y_test,rand_y),annot=True)\n",
    "plt.title('Random Forest Confusion Matrix')\n",
    "f = plt.gcf()\n",
    "f.set_size_inches(10,8)"
   ]
  },
  {
   "cell_type": "code",
   "execution_count": 48,
   "metadata": {},
   "outputs": [
    {
     "name": "stdout",
     "output_type": "stream",
     "text": [
      "Logistic Regression Classification report :\n",
      "                        precision    recall  f1-score   support\n",
      "\n",
      "         Art and Music       0.80      0.86      0.83       371\n",
      "                  Food       0.85      0.82      0.83       358\n",
      "               History       0.91      0.83      0.87       336\n",
      "         Manufacturing       0.85      0.83      0.84       347\n",
      "Science and Technology       0.88      0.89      0.89       372\n",
      "          Travel Blogs       0.76      0.79      0.78       377\n",
      "\n",
      "             micro avg       0.84      0.84      0.84      2161\n",
      "             macro avg       0.84      0.84      0.84      2161\n",
      "          weighted avg       0.84      0.84      0.84      2161\n",
      "\n"
     ]
    }
   ],
   "source": [
    "print('Logistic Regression Classification report :')\n",
    "print(classification_report(y_test,log_y))"
   ]
  },
  {
   "cell_type": "code",
   "execution_count": 49,
   "metadata": {},
   "outputs": [
    {
     "name": "stdout",
     "output_type": "stream",
     "text": [
      "Random Forest Classification report :\n",
      "                        precision    recall  f1-score   support\n",
      "\n",
      "         Art and Music       0.79      0.87      0.83       371\n",
      "                  Food       0.82      0.84      0.83       358\n",
      "               History       0.89      0.86      0.87       336\n",
      "         Manufacturing       0.89      0.81      0.85       347\n",
      "Science and Technology       0.86      0.88      0.87       372\n",
      "          Travel Blogs       0.77      0.74      0.75       377\n",
      "\n",
      "             micro avg       0.83      0.83      0.83      2161\n",
      "             macro avg       0.83      0.83      0.83      2161\n",
      "          weighted avg       0.83      0.83      0.83      2161\n",
      "\n"
     ]
    }
   ],
   "source": [
    "print('Random Forest Classification report :')\n",
    "print(classification_report(y_test,rand_y))"
   ]
  },
  {
   "cell_type": "code",
   "execution_count": 50,
   "metadata": {
    "collapsed": true
   },
   "outputs": [],
   "source": [
    "from sklearn.metrics import recall_score,precision_score,f1_score"
   ]
  },
  {
   "cell_type": "code",
   "execution_count": 51,
   "metadata": {
    "collapsed": true
   },
   "outputs": [],
   "source": [
    "log_r = recall_score(y_test,log_y,average='micro')\n",
    "log_p = precision_score(y_test,log_y,average='micro')\n",
    "log_f1 = f1_score(y_test,log_y,average='micro')"
   ]
  },
  {
   "cell_type": "code",
   "execution_count": 52,
   "metadata": {
    "collapsed": true
   },
   "outputs": [],
   "source": [
    "rand_r = recall_score(y_test,rand_y,average='micro')\n",
    "rand_p = precision_score(y_test,rand_y,average='micro')\n",
    "rand_f1 = f1_score(y_test,rand_y,average='micro')"
   ]
  },
  {
   "cell_type": "code",
   "execution_count": 53,
   "metadata": {
    "collapsed": true
   },
   "outputs": [],
   "source": [
    "data = [[log_p,log_r,log_f1,'Logistic Regression'],[rand_p,rand_r,rand_f1,'Random Forest']]\n",
    "df = pd.DataFrame(data,columns=['Precision','Recall','f1-score','Algorithm'])"
   ]
  },
  {
   "cell_type": "code",
   "execution_count": 54,
   "metadata": {},
   "outputs": [
    {
     "data": {
      "text/html": [
       "<div>\n",
       "<style>\n",
       "    .dataframe thead tr:only-child th {\n",
       "        text-align: right;\n",
       "    }\n",
       "\n",
       "    .dataframe thead th {\n",
       "        text-align: left;\n",
       "    }\n",
       "\n",
       "    .dataframe tbody tr th {\n",
       "        vertical-align: top;\n",
       "    }\n",
       "</style>\n",
       "<table border=\"1\" class=\"dataframe\">\n",
       "  <thead>\n",
       "    <tr style=\"text-align: right;\">\n",
       "      <th></th>\n",
       "      <th>Precision</th>\n",
       "      <th>Recall</th>\n",
       "      <th>f1-score</th>\n",
       "      <th>Algorithm</th>\n",
       "    </tr>\n",
       "  </thead>\n",
       "  <tbody>\n",
       "    <tr>\n",
       "      <th>0</th>\n",
       "      <td>0.838038</td>\n",
       "      <td>0.838038</td>\n",
       "      <td>0.838038</td>\n",
       "      <td>Logistic Regression</td>\n",
       "    </tr>\n",
       "    <tr>\n",
       "      <th>1</th>\n",
       "      <td>0.832022</td>\n",
       "      <td>0.832022</td>\n",
       "      <td>0.832022</td>\n",
       "      <td>Random Forest</td>\n",
       "    </tr>\n",
       "  </tbody>\n",
       "</table>\n",
       "</div>"
      ],
      "text/plain": [
       "   Precision    Recall  f1-score            Algorithm\n",
       "0   0.838038  0.838038  0.838038  Logistic Regression\n",
       "1   0.832022  0.832022  0.832022        Random Forest"
      ]
     },
     "execution_count": 54,
     "metadata": {},
     "output_type": "execute_result"
    }
   ],
   "source": [
    "df.head()"
   ]
  },
  {
   "cell_type": "code",
   "execution_count": 55,
   "metadata": {},
   "outputs": [
    {
     "data": {
      "image/png": "[encoded data removed]",
      "text/plain": [
       "<matplotlib.figure.Figure at 0x1a1e0050b8>"
      ]
     },
     "metadata": {},
     "output_type": "display_data"
    }
   ],
   "source": [
    "sns.barplot(y='Precision',x='Algorithm',data=df)\n",
    "plt.title('Precision Comparison')\n",
    "f = plt.gcf()\n",
    "f.set_size_inches(10,8)"
   ]
  },
  {
   "cell_type": "code",
   "execution_count": 56,
   "metadata": {},
   "outputs": [
    {
     "data": {
      "image/png": "[encoded data removed]",
      "text/plain": [
       "<matplotlib.figure.Figure at 0x1a1e2aad68>"
      ]
     },
     "metadata": {},
     "output_type": "display_data"
    }
   ],
   "source": [
    "sns.barplot(y='Recall',x='Algorithm',data=df)\n",
    "plt.title('Recall Comparison')\n",
    "f = plt.gcf()\n",
    "f.set_size_inches(10,8)"
   ]
  },
  {
   "cell_type": "code",
   "execution_count": 57,
   "metadata": {},
   "outputs": [
    {
     "data": {
      "image/png": "[encoded data removed]",
      "text/plain": [
       "<matplotlib.figure.Figure at 0x1a1df614e0>"
      ]
     },
     "metadata": {},
     "output_type": "display_data"
    }
   ],
   "source": [
    "sns.barplot(y='f1-score',x='Algorithm',data=df)\n",
    "plt.title('f1-score Comparison')\n",
    "f = plt.gcf()\n",
    "f.set_size_inches(10,8)"
   ]
  }
 ],
 "metadata": {
  "kernelspec": {
   "display_name": "Python 3",
   "language": "python",
   "name": "python3"
  },
  "language_info": {
   "codemirror_mode": {
    "name": "ipython",
    "version": 3
   },
   "file_extension": ".py",
   "mimetype": "text/x-python",
   "name": "python",
   "nbconvert_exporter": "python",
   "pygments_lexer": "ipython3",
   "version": "3.6.3"
  }
 },
 "nbformat": 4,
 "nbformat_minor": 2
}
